{
 "cells": [
  {
   "cell_type": "code",
   "execution_count": 1,
   "id": "a08a819c",
   "metadata": {
    "execution": {
     "iopub.execute_input": "2024-06-28T00:33:12.735631Z",
     "iopub.status.busy": "2024-06-28T00:33:12.734995Z",
     "iopub.status.idle": "2024-06-28T00:33:26.979684Z",
     "shell.execute_reply": "2024-06-28T00:33:26.978863Z"
    },
    "executionInfo": {
     "elapsed": 4,
     "status": "ok",
     "timestamp": 1719156459513,
     "user": {
      "displayName": "NUSRAT JAHAN NORY 203-15-14466",
      "userId": "11449098826681115547"
     },
     "user_tz": -360
    },
    "id": "D8jml5Qnr5ii",
    "papermill": {
     "duration": 14.278227,
     "end_time": "2024-06-28T00:33:26.981931",
     "exception": false,
     "start_time": "2024-06-28T00:33:12.703704",
     "status": "completed"
    },
    "tags": []
   },
   "outputs": [
    {
     "name": "stderr",
     "output_type": "stream",
     "text": [
      "2024-06-28 00:33:14.742669: E external/local_xla/xla/stream_executor/cuda/cuda_dnn.cc:9261] Unable to register cuDNN factory: Attempting to register factory for plugin cuDNN when one has already been registered\n",
      "2024-06-28 00:33:14.742768: E external/local_xla/xla/stream_executor/cuda/cuda_fft.cc:607] Unable to register cuFFT factory: Attempting to register factory for plugin cuFFT when one has already been registered\n",
      "2024-06-28 00:33:14.871664: E external/local_xla/xla/stream_executor/cuda/cuda_blas.cc:1515] Unable to register cuBLAS factory: Attempting to register factory for plugin cuBLAS when one has already been registered\n"
     ]
    }
   ],
   "source": [
    "# Import different kinds of libraries\n",
    "import os\n",
    "import cv2\n",
    "import glob\n",
    "import keras\n",
    "import numpy as np\n",
    "import seaborn as sns\n",
    "import datetime as dt\n",
    "import tensorflow as tf\n",
    "from PIL import Image, ImageOps\n",
    "import matplotlib.pyplot as plt\n",
    "import imgaug.augmenters as iaa\n",
    "from keras import Model, layers\n",
    "from IPython.display import Image\n",
    "import matplotlib.font_manager as fm\n",
    "from tensorflow.keras import callbacks\n",
    "from tensorflow.keras import models, layers\n",
    "from tensorflow.keras.optimizers import Adam\n",
    "from tensorflow.keras.regularizers import l2\n",
    "from keras.models import load_model, model_from_json, Sequential\n",
    "from tensorflow.keras.losses import SparseCategoricalCrossentropy\n",
    "from sklearn.metrics import confusion_matrix, classification_report\n",
    "from tensorflow.keras.applications.resnet50 import preprocess_input\n",
    "from keras.layers import Conv2D, MaxPooling2D, Flatten, Dense, Dropout, BatchNormalization\n",
    "from tensorflow.keras.preprocessing.image import ImageDataGenerator, load_img, img_to_array\n",
    "from tensorflow.keras.applications import DenseNet121, ResNet50, DenseNet201, InceptionV3, Xception, MobileNetV2, VGG19, VGG16\n",
    "from tensorflow.keras.layers import Input, Lambda, Dense, Flatten, Concatenate, Dropout,GlobalAveragePooling2D"
   ]
  },
  {
   "cell_type": "code",
   "execution_count": 2,
   "id": "d60752b9",
   "metadata": {
    "execution": {
     "iopub.execute_input": "2024-06-28T00:33:27.042790Z",
     "iopub.status.busy": "2024-06-28T00:33:27.042219Z",
     "iopub.status.idle": "2024-06-28T00:33:27.046645Z",
     "shell.execute_reply": "2024-06-28T00:33:27.045493Z"
    },
    "papermill": {
     "duration": 0.036447,
     "end_time": "2024-06-28T00:33:27.049147",
     "exception": false,
     "start_time": "2024-06-28T00:33:27.012700",
     "status": "completed"
    },
    "tags": []
   },
   "outputs": [],
   "source": [
    "#path for bangla font\n",
    "font_path = '/kaggle/input/bangla-font/NotoSansBengalit.ttf'\n"
   ]
  },
  {
   "cell_type": "code",
   "execution_count": 3,
   "id": "06939b57",
   "metadata": {
    "execution": {
     "iopub.execute_input": "2024-06-28T00:33:27.122768Z",
     "iopub.status.busy": "2024-06-28T00:33:27.122430Z",
     "iopub.status.idle": "2024-06-28T00:33:27.847886Z",
     "shell.execute_reply": "2024-06-28T00:33:27.846680Z"
    },
    "executionInfo": {
     "elapsed": 3617,
     "status": "ok",
     "timestamp": 1719137616155,
     "user": {
      "displayName": "NUSRAT JAHAN NORY 203-15-14466",
      "userId": "11449098826681115547"
     },
     "user_tz": -360
    },
    "id": "btCNFc8VjdH7",
    "outputId": "9927dbce-07e4-4f56-c3ae-27eae17623d5",
    "papermill": {
     "duration": 0.760413,
     "end_time": "2024-06-28T00:33:27.849635",
     "exception": true,
     "start_time": "2024-06-28T00:33:27.089222",
     "status": "failed"
    },
    "tags": []
   },
   "outputs": [
    {
     "ename": "ModuleNotFoundError",
     "evalue": "No module named 'google.colab'",
     "output_type": "error",
     "traceback": [
      "\u001b[0;31m---------------------------------------------------------------------------\u001b[0m",
      "\u001b[0;31mModuleNotFoundError\u001b[0m                       Traceback (most recent call last)",
      "Cell \u001b[0;32mIn[3], line 1\u001b[0m\n\u001b[0;32m----> 1\u001b[0m \u001b[38;5;28;01mfrom\u001b[39;00m \u001b[38;5;21;01mgoogle\u001b[39;00m\u001b[38;5;21;01m.\u001b[39;00m\u001b[38;5;21;01mcolab\u001b[39;00m \u001b[38;5;28;01mimport\u001b[39;00m drive\n\u001b[1;32m      2\u001b[0m drive\u001b[38;5;241m.\u001b[39mmount(\u001b[38;5;124m'\u001b[39m\u001b[38;5;124m/content/drive\u001b[39m\u001b[38;5;124m'\u001b[39m)\n",
      "\u001b[0;31mModuleNotFoundError\u001b[0m: No module named 'google.colab'"
     ]
    }
   ],
   "source": [
    "from google.colab import drive\n",
    "drive.mount('/content/drive')"
   ]
  },
  {
   "cell_type": "code",
   "execution_count": null,
   "id": "fe29784b",
   "metadata": {
    "_kg_hide-input": true,
    "executionInfo": {
     "elapsed": 998480,
     "status": "ok",
     "timestamp": 1719138674140,
     "user": {
      "displayName": "NUSRAT JAHAN NORY 203-15-14466",
      "userId": "11449098826681115547"
     },
     "user_tz": -360
    },
    "id": "OC2QOyoisGKP",
    "outputId": "ad837c3e-e39d-4844-8bda-ad9b9ea233d2",
    "papermill": {
     "duration": null,
     "end_time": null,
     "exception": null,
     "start_time": null,
     "status": "pending"
    },
    "tags": []
   },
   "outputs": [],
   "source": [
    "#global height width\n",
    "height = 256\n",
    "width = 256\n",
    "def load_data(directory):\n",
    "    images = []\n",
    "    labels = []\n",
    "    for label in os.listdir(directory):\n",
    "        label_dir = os.path.join(directory, label)\n",
    "        print(label)\n",
    "        for image_file in os.listdir(label_dir):\n",
    "            image_path = os.path.join(label_dir, image_file)\n",
    "            # Error handling\n",
    "            try:\n",
    "                image = cv2.imread(image_path)\n",
    "                if image is None:\n",
    "                    print(f\"Error: Unable to read image '{image_path}'\")\n",
    "                    continue\n",
    "                image = cv2.resize(image, (height, width))  # Resize image\n",
    "                image = cv2.cvtColor(image, cv2.COLOR_BGR2GRAY)\n",
    "                image = image / 255.0\n",
    "                images.append(image)\n",
    "                labels.append(label)\n",
    "            except Exception as e:\n",
    "                print(f\"Error processing image '{image_path}': {e}\")\n",
    "    return np.array(images), np.array(labels)\n",
    "\n",
    "# Load data\n",
    "X, y = load_data('/content/drive/MyDrive/FL23D092/Sign Language Images/Bangla_Sign_Final_datasetV2')"
   ]
  },
  {
   "cell_type": "markdown",
   "id": "8351884b",
   "metadata": {
    "id": "9wbrjYF75tzB",
    "papermill": {
     "duration": null,
     "end_time": null,
     "exception": null,
     "start_time": null,
     "status": "pending"
    },
    "tags": []
   },
   "source": [
    "# **background remove**"
   ]
  },
  {
   "cell_type": "code",
   "execution_count": null,
   "id": "8dd6b152",
   "metadata": {
    "collapsed": true,
    "executionInfo": {
     "elapsed": 20167,
     "status": "ok",
     "timestamp": 1719122908000,
     "user": {
      "displayName": "NUSRAT JAHAN NORY 203-15-14466",
      "userId": "11449098826681115547"
     },
     "user_tz": -360
    },
    "id": "vTVK3o2A5cd1",
    "jupyter": {
     "outputs_hidden": true
    },
    "outputId": "7c9a0018-8ea7-4745-a17b-947a92d7f64e",
    "papermill": {
     "duration": null,
     "end_time": null,
     "exception": null,
     "start_time": null,
     "status": "pending"
    },
    "tags": []
   },
   "outputs": [],
   "source": [
    "!pip install removebg\n",
    "!pip install rembg"
   ]
  },
  {
   "cell_type": "code",
   "execution_count": null,
   "id": "ee0f63fa",
   "metadata": {
    "executionInfo": {
     "elapsed": 78649,
     "status": "ok",
     "timestamp": 1719122990060,
     "user": {
      "displayName": "NUSRAT JAHAN NORY 203-15-14466",
      "userId": "11449098826681115547"
     },
     "user_tz": -360
    },
    "id": "8fyTY2625hjq",
    "outputId": "fd475ef5-c82d-4988-80c9-0005166db1f7",
    "papermill": {
     "duration": null,
     "end_time": null,
     "exception": null,
     "start_time": null,
     "status": "pending"
    },
    "tags": []
   },
   "outputs": [],
   "source": [
    "from rembg import new_session, remove\n",
    "model_name = \"u2net\"\n",
    "rembg_session = new_session(model_name)"
   ]
  },
  {
   "cell_type": "code",
   "execution_count": null,
   "id": "4f7e376b",
   "metadata": {
    "id": "hOPZEBTj5kKv",
    "papermill": {
     "duration": null,
     "end_time": null,
     "exception": null,
     "start_time": null,
     "status": "pending"
    },
    "tags": []
   },
   "outputs": [],
   "source": [
    "import os\n",
    "def list_files(folder_path):\n",
    "    file_paths = []\n",
    "    # Walk through all the directories and subdirectories\n",
    "    for root, directories, files in os.walk(folder_path):\n",
    "        for file in files:\n",
    "            file_paths.append(os.path.join(root, file))\n",
    "    return file_paths"
   ]
  },
  {
   "cell_type": "code",
   "execution_count": null,
   "id": "9ea1dc32",
   "metadata": {
    "collapsed": true,
    "executionInfo": {
     "elapsed": 820,
     "status": "ok",
     "timestamp": 1719138780798,
     "user": {
      "displayName": "NUSRAT JAHAN NORY 203-15-14466",
      "userId": "11449098826681115547"
     },
     "user_tz": -360
    },
    "id": "niVwgH3S5nYr",
    "jupyter": {
     "outputs_hidden": true
    },
    "outputId": "588fd7bc-7c82-46bb-90ad-72e49187466d",
    "papermill": {
     "duration": null,
     "end_time": null,
     "exception": null,
     "start_time": null,
     "status": "pending"
    },
    "tags": []
   },
   "outputs": [],
   "source": [
    "img_list = list_files('/content/drive/MyDrive/FL23D092/Sign Language Images/Bangla_Sign_Final_datasetV2')\n",
    "img_list"
   ]
  },
  {
   "cell_type": "code",
   "execution_count": null,
   "id": "b35c2180",
   "metadata": {
    "id": "T4YEsCEI507w",
    "papermill": {
     "duration": null,
     "end_time": null,
     "exception": null,
     "start_time": null,
     "status": "pending"
    },
    "tags": []
   },
   "outputs": [],
   "source": [
    "def get_bg_removed(img):\n",
    "  output = remove(\n",
    "    img,\n",
    "    session=rembg_session,\n",
    "    alpha_matting=True,\n",
    "    alpha_matting_foreground_threshold=270,\n",
    "    alpha_matting_background_threshold=20,\n",
    "    alpha_matting_erode_size=11,\n",
    "  )\n",
    "  return output;"
   ]
  },
  {
   "cell_type": "code",
   "execution_count": null,
   "id": "26d1c775",
   "metadata": {
    "id": "2cKcqaZb55c8",
    "papermill": {
     "duration": null,
     "end_time": null,
     "exception": null,
     "start_time": null,
     "status": "pending"
    },
    "tags": []
   },
   "outputs": [],
   "source": [
    "import matplotlib.pyplot as plt\n",
    "\n",
    "def print_img(img_path, format='jpg'):\n",
    "  img = plt.imread(img_path, format=format)\n",
    "  plt.imshow(img)\n",
    "  plt.axis('off')\n",
    "  plt.show()"
   ]
  },
  {
   "cell_type": "code",
   "execution_count": null,
   "id": "91a67887",
   "metadata": {
    "id": "fchfu4Oped4T",
    "papermill": {
     "duration": null,
     "end_time": null,
     "exception": null,
     "start_time": null,
     "status": "pending"
    },
    "tags": []
   },
   "outputs": [],
   "source": [
    "from PIL import Image"
   ]
  },
  {
   "cell_type": "code",
   "execution_count": null,
   "id": "b5b8911a",
   "metadata": {
    "id": "o4YiJnNX6AdS",
    "papermill": {
     "duration": null,
     "end_time": null,
     "exception": null,
     "start_time": null,
     "status": "pending"
    },
    "tags": []
   },
   "outputs": [],
   "source": [
    "base_folder = '/content/drive/MyDrive/FL23D092/Sign Language Images/Bangla_Sign_Final_datasetV2/'\n",
    "sub_folder = 'Bg_remove/'\n",
    "extension = 'png'\n",
    "\n",
    "def gen_bg_removed(img_path):\n",
    "\n",
    "  file_name = os.path.basename(img_path)\n",
    "  sub_path = img_path.removeprefix(base_folder).removesuffix(file_name)\n",
    "\n",
    "  output_path = base_folder + sub_folder + sub_path\n",
    "\n",
    "  if not os.path.exists(output_path):\n",
    "    os.makedirs(output_path)\n",
    "\n",
    "  with open(img_path, 'rb') as i:\n",
    "      with open(output_path + file_name, 'wb') as o:\n",
    "          input = i.read()\n",
    "          output = get_bg_removed(input)\n",
    "          o.write(output)"
   ]
  },
  {
   "cell_type": "code",
   "execution_count": null,
   "id": "9fe3a1d0",
   "metadata": {
    "id": "r5sOjwfx6DxT",
    "papermill": {
     "duration": null,
     "end_time": null,
     "exception": null,
     "start_time": null,
     "status": "pending"
    },
    "tags": []
   },
   "outputs": [],
   "source": [
    "for img_path in img_list:\n",
    "  gen_bg_removed(img_path)"
   ]
  },
  {
   "cell_type": "code",
   "execution_count": null,
   "id": "c6e2df3b",
   "metadata": {
    "collapsed": true,
    "executionInfo": {
     "elapsed": 1275,
     "status": "ok",
     "timestamp": 1719156569686,
     "user": {
      "displayName": "NUSRAT JAHAN NORY 203-15-14466",
      "userId": "11449098826681115547"
     },
     "user_tz": -360
    },
    "id": "_gd0VR0wZ3IJ",
    "jupyter": {
     "outputs_hidden": true
    },
    "outputId": "823598c7-0a24-4d24-c826-d1e209da010e",
    "papermill": {
     "duration": null,
     "end_time": null,
     "exception": null,
     "start_time": null,
     "status": "pending"
    },
    "tags": []
   },
   "outputs": [],
   "source": [
    "root_dir = '/content/drive/MyDrive/FL23D092/Sign Language Images/Bangla_Sign_Final_datasetV2/Bg_remove'\n",
    "# Count the number of images\n",
    "def count_total(directory):\n",
    "    num_images = 0\n",
    "    for f in os.listdir(directory):\n",
    "        f_path = os.path.join(directory, f)\n",
    "        # check if the subdirectory or file exists and is a directory\n",
    "        if os.path.isdir(f_path):\n",
    "            num_images += count_total(f_path)\n",
    "        elif os.path.splitext(f)[1].lower() in image_extensions:\n",
    "            num_images += 1\n",
    "    return num_images\n",
    "# function call\n",
    "num_images = count_total(root_dir)\n",
    "print(f'Total number of images: {num_images}')"
   ]
  },
  {
   "cell_type": "markdown",
   "id": "ef6dc8be",
   "metadata": {
    "id": "eulmJFvagROn",
    "papermill": {
     "duration": null,
     "end_time": null,
     "exception": null,
     "start_time": null,
     "status": "pending"
    },
    "tags": []
   },
   "source": [
    "## **Resize, Grayscale, Increase contrast**"
   ]
  },
  {
   "cell_type": "code",
   "execution_count": null,
   "id": "ee58818b",
   "metadata": {
    "executionInfo": {
     "elapsed": 475769,
     "status": "ok",
     "timestamp": 1719157148839,
     "user": {
      "displayName": "NUSRAT JAHAN NORY 203-15-14466",
      "userId": "11449098826681115547"
     },
     "user_tz": -360
    },
    "id": "2pm8uWB-LTw9",
    "papermill": {
     "duration": null,
     "end_time": null,
     "exception": null,
     "start_time": null,
     "status": "pending"
    },
    "tags": []
   },
   "outputs": [],
   "source": [
    "#Gamma < 1: Darkens the image, reducing the contrast\n",
    "#Gamma = 1: No change, the image remains unchanged.\n",
    "#Gamma > 1: Lightens the image, increasing the contrast\n",
    "def gamma_correction(image, gamma=1.0):\n",
    "    inv_gamma = 1.0 / gamma\n",
    "    table = np.array([((i / 255.0) ** inv_gamma) * 255.0 for i in np.arange(0, 256)]).astype(\"uint8\")\n",
    "    return cv2.LUT(image, table)\n",
    "# specify the desired size for resizing\n",
    "desired_size = (256, 256)\n",
    "\n",
    "# specify the root directory\n",
    "root_dir = '/content/drive/MyDrive/FL23D092/Sign Language Images/Bangla_Sign_Final_datasetV2/Bg_remove'\n",
    "\n",
    "# specify the directory to save processed images\n",
    "save_dir = '/content/drive/MyDrive/FL23D092/Sign Language Images/Bangla_Sign_Final_datasetV2/augmented_data/'\n",
    "\n",
    "# list of image extensions\n",
    "image_extensions = ['.jpg', '.jpeg', '.png', '.bmp']\n",
    "\n",
    "# iterate over all subdirectories in the root directory\n",
    "for subdir in os.listdir(root_dir):\n",
    "    sub_dir_path = os.path.join(root_dir, subdir)\n",
    "    if os.path.isdir(sub_dir_path):\n",
    "        for filename in os.listdir(sub_dir_path):\n",
    "            file_path = os.path.join(sub_dir_path, filename)\n",
    "            if os.path.splitext(file_path)[1].lower() in image_extensions:\n",
    "                img = cv2.imread(file_path)\n",
    "                if img is not None:\n",
    "                    # resize the image\n",
    "                    resized_img = cv2.resize(img, desired_size)\n",
    "                    # convert the image to grayscale\n",
    "                    gray_img = cv2.cvtColor(resized_img, cv2.COLOR_BGR2GRAY)\n",
    "                    # enhance contrast using histogram equalization\n",
    "                    enhanced_img = cv2.equalizeHist(gray_img)\n",
    "                    # apply gamma correction\n",
    "                    gamma_corrected_img = gamma_correction(enhanced_img, gamma=1.5)\n",
    "                    # construct the save path for the processed image\n",
    "                    save_path = os.path.join(save_dir, subdir, filename)\n",
    "                    os.makedirs(os.path.dirname(save_path), exist_ok=True)  # Create directory if it doesn't exist\n",
    "                    # save the preprocessed image\n",
    "                    cv2.imwrite(save_path, gamma_corrected_img)"
   ]
  },
  {
   "cell_type": "markdown",
   "id": "8be44da3",
   "metadata": {
    "id": "-9YF1yDfgLuA",
    "papermill": {
     "duration": null,
     "end_time": null,
     "exception": null,
     "start_time": null,
     "status": "pending"
    },
    "tags": []
   },
   "source": [
    "# **Augmentation**"
   ]
  },
  {
   "cell_type": "code",
   "execution_count": null,
   "id": "4b380567",
   "metadata": {
    "_kg_hide-output": true,
    "executionInfo": {
     "elapsed": 246470,
     "status": "error",
     "timestamp": 1719157556154,
     "user": {
      "displayName": "NUSRAT JAHAN NORY 203-15-14466",
      "userId": "11449098826681115547"
     },
     "user_tz": -360
    },
    "id": "ZeNbFSgqt2AI",
    "outputId": "756f48a0-4472-4df4-940c-dc47381aaf7a",
    "papermill": {
     "duration": null,
     "end_time": null,
     "exception": null,
     "start_time": null,
     "status": "pending"
    },
    "tags": []
   },
   "outputs": [],
   "source": [
    "from tensorflow.keras.preprocessing.image import load_img, img_to_array\n",
    "from tensorflow.keras.preprocessing.image import ImageDataGenerator\n",
    "\n",
    "def augment_images(folder_path, num_of_augment):\n",
    "    # Define the augmentation parameters\n",
    "    img_gen = ImageDataGenerator(\n",
    "        width_shift_range=0.2,\n",
    "        height_shift_range=0.2,\n",
    "        shear_range=0.2,\n",
    "        zoom_range=0.2,\n",
    "        horizontal_flip=True,\n",
    "        vertical_flip=False,\n",
    "        fill_mode='nearest'\n",
    "    )\n",
    "\n",
    "    # Loop through all files in the folder path\n",
    "    for root, _, filenames in os.walk(folder_path):\n",
    "        for filename in filenames:\n",
    "            if filename.endswith((\".jpg\", \".jpeg\", \".png\")):\n",
    "                img_path = os.path.join(root, filename)\n",
    "\n",
    "                # Load the original image\n",
    "                original_img = load_img(img_path, target_size=(250, 250))\n",
    "                original_img_array = img_to_array(original_img)\n",
    "                original_img_array = original_img_array.reshape((1,) + original_img_array.shape)\n",
    "\n",
    "                # Perform augmentation and save the augmented images\n",
    "                save_to_dir = os.path.dirname(img_path)  # Save in the same subfolder as the original image\n",
    "                save_prefix = filename.split('.')[0]  # Use the original filename as prefix\n",
    "\n",
    "                # Generate a batch of augmented images from the single image\n",
    "                augmented_images = img_gen.flow(original_img_array, batch_size=num_of_augment,\n",
    "                                                 save_to_dir=save_to_dir, save_prefix=save_prefix,\n",
    "                                                 save_format='jpeg')\n",
    "\n",
    "                # Iterate through the generated batch and save each image\n",
    "                for i in range(num_of_augment):\n",
    "                    augmented_images.next()\n",
    "\n",
    "# Call the function with the desired folder path\n",
    "augment_images('/content/drive/MyDrive/FL23D092/Sign Language Images/Bangla_Sign_Final_datasetV2/augmented_data', 5)"
   ]
  },
  {
   "cell_type": "markdown",
   "id": "52a2a2c5",
   "metadata": {
    "papermill": {
     "duration": null,
     "end_time": null,
     "exception": null,
     "start_time": null,
     "status": "pending"
    },
    "tags": []
   },
   "source": [
    "> **Count Images**"
   ]
  },
  {
   "cell_type": "code",
   "execution_count": null,
   "id": "9f060c4f",
   "metadata": {
    "execution": {
     "iopub.execute_input": "2024-06-27T22:56:28.797566Z",
     "iopub.status.busy": "2024-06-27T22:56:28.797211Z",
     "iopub.status.idle": "2024-06-27T22:56:35.374238Z",
     "shell.execute_reply": "2024-06-27T22:56:35.373331Z",
     "shell.execute_reply.started": "2024-06-27T22:56:28.797538Z"
    },
    "executionInfo": {
     "elapsed": 2894,
     "status": "ok",
     "timestamp": 1719152089099,
     "user": {
      "displayName": "NUSRAT JAHAN NORY 203-15-14466",
      "userId": "11449098826681115547"
     },
     "user_tz": -360
    },
    "id": "_RzhQK9TKaHx",
    "outputId": "b0ab085b-d58d-4810-f8d4-64ce4fb0d488",
    "papermill": {
     "duration": null,
     "end_time": null,
     "exception": null,
     "start_time": null,
     "status": "pending"
    },
    "tags": []
   },
   "outputs": [],
   "source": [
    "# count the images of each subdirectory\n",
    "root_dir = '/kaggle/input/augmented-data/Augmented_data'\n",
    "\n",
    "# specify the image file extensions\n",
    "image_extensions = ['.jpg', '.jpeg', '.png', '.bmp', '.tif', '.tiff']\n",
    "\n",
    "# iterate over all subdirectories in the root directory\n",
    "for sub_dir in os.listdir(root_dir):\n",
    "    sub_dir_path = os.path.join(root_dir, sub_dir) # construct the full path to the subdirectory\n",
    "\n",
    "    # check if the subdirectory exists and is a directory\n",
    "    if os.path.isdir(sub_dir_path):\n",
    "        # count the number of image files in the subdirectory\n",
    "        num_images = sum(1 for f in os.listdir(sub_dir_path) if os.path.splitext(f)[1].lower() in image_extensions)\n",
    "        # print the subdirectory name and the number of images\n",
    "        print(f'{sub_dir}: {num_images} images')"
   ]
  },
  {
   "cell_type": "code",
   "execution_count": null,
   "id": "d0dc2bef",
   "metadata": {
    "execution": {
     "iopub.execute_input": "2024-06-27T22:56:38.118409Z",
     "iopub.status.busy": "2024-06-27T22:56:38.117669Z",
     "iopub.status.idle": "2024-06-27T22:56:42.658471Z",
     "shell.execute_reply": "2024-06-27T22:56:42.657468Z",
     "shell.execute_reply.started": "2024-06-27T22:56:38.118374Z"
    },
    "executionInfo": {
     "elapsed": 16039,
     "status": "ok",
     "timestamp": 1719152109581,
     "user": {
      "displayName": "NUSRAT JAHAN NORY 203-15-14466",
      "userId": "11449098826681115547"
     },
     "user_tz": -360
    },
    "id": "0qRtAw-nyTrV",
    "outputId": "0412d653-b5a3-4d55-c8ce-5472dd8447d5",
    "papermill": {
     "duration": null,
     "end_time": null,
     "exception": null,
     "start_time": null,
     "status": "pending"
    },
    "tags": []
   },
   "outputs": [],
   "source": [
    "# Count the number of images\n",
    "dir = '/kaggle/input/augmented-data/Augmented_data'\n",
    "\n",
    "def count_total(directory):\n",
    "    num_images = 0\n",
    "    for f in os.listdir(directory):\n",
    "        f_path = os.path.join(directory, f)\n",
    "        # check if the subdirectory or file exists and is a directory\n",
    "        if os.path.isdir(f_path):\n",
    "            num_images += count_total(f_path)\n",
    "        elif os.path.splitext(f)[1].lower() in image_extensions:\n",
    "            num_images += 1\n",
    "    return num_images\n",
    "# function call\n",
    "num_images = count_total(dir)\n",
    "print(f'Total number of images: {num_images}')"
   ]
  },
  {
   "cell_type": "markdown",
   "id": "377a607d",
   "metadata": {
    "papermill": {
     "duration": null,
     "end_time": null,
     "exception": null,
     "start_time": null,
     "status": "pending"
    },
    "tags": []
   },
   "source": [
    "**Check classes**"
   ]
  },
  {
   "cell_type": "code",
   "execution_count": null,
   "id": "d7da90b8",
   "metadata": {
    "execution": {
     "iopub.execute_input": "2024-06-27T22:56:45.975206Z",
     "iopub.status.busy": "2024-06-27T22:56:45.974842Z",
     "iopub.status.idle": "2024-06-27T22:56:49.944474Z",
     "shell.execute_reply": "2024-06-27T22:56:49.943686Z",
     "shell.execute_reply.started": "2024-06-27T22:56:45.975176Z"
    },
    "executionInfo": {
     "elapsed": 13112,
     "status": "ok",
     "timestamp": 1718434362136,
     "user": {
      "displayName": "nory bindas",
      "userId": "13859653085278195170"
     },
     "user_tz": -360
    },
    "id": "Zo7mgQmxy9c6",
    "outputId": "9f92aeca-f856-4a47-dcf3-f20eb69a0e2a",
    "papermill": {
     "duration": null,
     "end_time": null,
     "exception": null,
     "start_time": null,
     "status": "pending"
    },
    "tags": []
   },
   "outputs": [],
   "source": [
    "#Load the dataset the JPES files what we converted before\n",
    "BATCH_SIZE = 32\n",
    "IMAGE_SIZE = 256\n",
    "CHANNELS=3\n",
    "dataset=tf.keras.preprocessing.image_dataset_from_directory(\n",
    "    '/kaggle/input/augmented-data/Augmented_data',\n",
    "    shuffle=True,\n",
    "    image_size=(IMAGE_SIZE,IMAGE_SIZE),\n",
    "    batch_size=BATCH_SIZE\n",
    ")"
   ]
  },
  {
   "cell_type": "code",
   "execution_count": null,
   "id": "d85283fb",
   "metadata": {
    "execution": {
     "iopub.execute_input": "2024-06-27T22:56:51.360764Z",
     "iopub.status.busy": "2024-06-27T22:56:51.360426Z",
     "iopub.status.idle": "2024-06-27T22:56:51.368457Z",
     "shell.execute_reply": "2024-06-27T22:56:51.367583Z",
     "shell.execute_reply.started": "2024-06-27T22:56:51.360738Z"
    },
    "executionInfo": {
     "elapsed": 4,
     "status": "ok",
     "timestamp": 1718434362136,
     "user": {
      "displayName": "nory bindas",
      "userId": "13859653085278195170"
     },
     "user_tz": -360
    },
    "id": "YUkfnCn525xg",
    "outputId": "32a9c164-87b4-4c12-92d3-fd021373c843",
    "papermill": {
     "duration": null,
     "end_time": null,
     "exception": null,
     "start_time": null,
     "status": "pending"
    },
    "tags": []
   },
   "outputs": [],
   "source": [
    "#Class name in my dataset\n",
    "class_name=dataset.class_names\n",
    "class_name"
   ]
  },
  {
   "cell_type": "code",
   "execution_count": null,
   "id": "13190a3a",
   "metadata": {
    "execution": {
     "iopub.execute_input": "2024-06-27T22:56:54.474249Z",
     "iopub.status.busy": "2024-06-27T22:56:54.473580Z",
     "iopub.status.idle": "2024-06-27T22:56:54.665885Z",
     "shell.execute_reply": "2024-06-27T22:56:54.664794Z",
     "shell.execute_reply.started": "2024-06-27T22:56:54.474217Z"
    },
    "executionInfo": {
     "elapsed": 43363,
     "status": "ok",
     "timestamp": 1718434405497,
     "user": {
      "displayName": "nory bindas",
      "userId": "13859653085278195170"
     },
     "user_tz": -360
    },
    "id": "A57-cv9zIykR",
    "outputId": "df2160bf-5d07-42fa-fe70-a67efc1d5439",
    "papermill": {
     "duration": null,
     "end_time": null,
     "exception": null,
     "start_time": null,
     "status": "pending"
    },
    "tags": []
   },
   "outputs": [],
   "source": [
    "#image shape\n",
    "for image_batch, labels_batch in dataset.take(1):\n",
    "    print(image_batch.shape)\n",
    "    print(labels_batch.numpy())"
   ]
  },
  {
   "cell_type": "markdown",
   "id": "85c2586d",
   "metadata": {
    "id": "_-mWrYyJI7-r",
    "papermill": {
     "duration": null,
     "end_time": null,
     "exception": null,
     "start_time": null,
     "status": "pending"
    },
    "tags": []
   },
   "source": [
    "**Train Test**"
   ]
  },
  {
   "cell_type": "code",
   "execution_count": null,
   "id": "3907de09",
   "metadata": {
    "execution": {
     "iopub.execute_input": "2024-06-27T22:56:58.923253Z",
     "iopub.status.busy": "2024-06-27T22:56:58.922309Z",
     "iopub.status.idle": "2024-06-27T22:56:58.931129Z",
     "shell.execute_reply": "2024-06-27T22:56:58.930003Z",
     "shell.execute_reply.started": "2024-06-27T22:56:58.923210Z"
    },
    "id": "IFD-75liI1qS",
    "papermill": {
     "duration": null,
     "end_time": null,
     "exception": null,
     "start_time": null,
     "status": "pending"
    },
    "tags": []
   },
   "outputs": [],
   "source": [
    "def get_dataset_partitions_tf(ds, train_split=0.7, val_split=0.2, test_split=0.1, shuffle=True, shuffle_size=50):\n",
    "    assert (train_split + test_split + val_split) == 1\n",
    "\n",
    "    ds_size = len(ds)\n",
    "\n",
    "    if shuffle:\n",
    "        ds = ds.shuffle(shuffle_size, seed=12)\n",
    "\n",
    "    train_size = int(train_split * ds_size)\n",
    "    val_size = int(val_split * ds_size)\n",
    "\n",
    "    train_ds = ds.take(train_size)\n",
    "    val_ds = ds.skip(train_size).take(val_size)\n",
    "    test_ds = ds.skip(train_size).skip(val_size)\n",
    "\n",
    "    return train_ds, val_ds, test_ds"
   ]
  },
  {
   "cell_type": "code",
   "execution_count": null,
   "id": "9b4b51e2",
   "metadata": {
    "execution": {
     "iopub.execute_input": "2024-06-27T22:57:01.473150Z",
     "iopub.status.busy": "2024-06-27T22:57:01.472010Z",
     "iopub.status.idle": "2024-06-27T22:57:01.497187Z",
     "shell.execute_reply": "2024-06-27T22:57:01.496062Z",
     "shell.execute_reply.started": "2024-06-27T22:57:01.473106Z"
    },
    "id": "ZT7_RwXPJC0S",
    "papermill": {
     "duration": null,
     "end_time": null,
     "exception": null,
     "start_time": null,
     "status": "pending"
    },
    "tags": []
   },
   "outputs": [],
   "source": [
    "train_ds, val_ds, test_ds=get_dataset_partitions_tf(dataset)"
   ]
  },
  {
   "cell_type": "code",
   "execution_count": null,
   "id": "41338795",
   "metadata": {
    "execution": {
     "iopub.execute_input": "2024-06-27T22:57:03.053639Z",
     "iopub.status.busy": "2024-06-27T22:57:03.053010Z",
     "iopub.status.idle": "2024-06-27T22:57:03.075006Z",
     "shell.execute_reply": "2024-06-27T22:57:03.074117Z",
     "shell.execute_reply.started": "2024-06-27T22:57:03.053605Z"
    },
    "id": "u3voFOQuJGju",
    "papermill": {
     "duration": null,
     "end_time": null,
     "exception": null,
     "start_time": null,
     "status": "pending"
    },
    "tags": []
   },
   "outputs": [],
   "source": [
    "train_ds = train_ds.cache().shuffle(1000).prefetch(buffer_size=tf.data.AUTOTUNE)\n",
    "val_ds = val_ds.cache().shuffle(1000).prefetch(buffer_size=tf.data.AUTOTUNE)\n",
    "test_ds = test_ds.cache().shuffle(1000).prefetch(buffer_size=tf.data.AUTOTUNE)"
   ]
  },
  {
   "cell_type": "code",
   "execution_count": null,
   "id": "a5af73b3",
   "metadata": {
    "execution": {
     "iopub.execute_input": "2024-06-25T17:26:25.913454Z",
     "iopub.status.busy": "2024-06-25T17:26:25.912544Z",
     "iopub.status.idle": "2024-06-25T17:26:55.029602Z",
     "shell.execute_reply": "2024-06-25T17:26:55.028661Z",
     "shell.execute_reply.started": "2024-06-25T17:26:25.913408Z"
    },
    "papermill": {
     "duration": null,
     "end_time": null,
     "exception": null,
     "start_time": null,
     "status": "pending"
    },
    "tags": []
   },
   "outputs": [],
   "source": [
    "train_size = 0\n",
    "for _ in train_ds:\n",
    "    train_size += 1\n",
    "\n",
    "val_size = 0\n",
    "for _ in val_ds:\n",
    "    val_size += 1\n",
    "\n",
    "test_size = 0\n",
    "for _ in test_ds:\n",
    "    test_size += 1\n",
    "\n",
    "print(f\"Training set size: {train_size}\")\n",
    "print(f\"Validation set size: {val_size}\")\n",
    "print(f\"Test set size: {test_size}\")"
   ]
  },
  {
   "cell_type": "code",
   "execution_count": null,
   "id": "45fe9810",
   "metadata": {
    "execution": {
     "iopub.execute_input": "2024-06-27T22:57:06.439123Z",
     "iopub.status.busy": "2024-06-27T22:57:06.438760Z",
     "iopub.status.idle": "2024-06-27T22:57:06.443506Z",
     "shell.execute_reply": "2024-06-27T22:57:06.442598Z",
     "shell.execute_reply.started": "2024-06-27T22:57:06.439092Z"
    },
    "id": "SFApgNFv85Xg",
    "papermill": {
     "duration": null,
     "end_time": null,
     "exception": null,
     "start_time": null,
     "status": "pending"
    },
    "tags": []
   },
   "outputs": [],
   "source": [
    "BATCH_SIZE = 32  # Adjust batch size as needed\n",
    "EPOCHS = 40  # Adjust number of epochs as needed\n",
    "LEARNING_RATE = 0.001  # Adjust learning rate as needed"
   ]
  },
  {
   "cell_type": "markdown",
   "id": "820ad5e2",
   "metadata": {
    "papermill": {
     "duration": null,
     "end_time": null,
     "exception": null,
     "start_time": null,
     "status": "pending"
    },
    "tags": []
   },
   "source": [
    "**Showing random data**"
   ]
  },
  {
   "cell_type": "code",
   "execution_count": null,
   "id": "4f21750b",
   "metadata": {
    "execution": {
     "iopub.execute_input": "2024-06-25T17:27:04.948327Z",
     "iopub.status.busy": "2024-06-25T17:27:04.947858Z",
     "iopub.status.idle": "2024-06-25T17:27:05.905089Z",
     "shell.execute_reply": "2024-06-25T17:27:05.904053Z",
     "shell.execute_reply.started": "2024-06-25T17:27:04.948275Z"
    },
    "papermill": {
     "duration": null,
     "end_time": null,
     "exception": null,
     "start_time": null,
     "status": "pending"
    },
    "tags": []
   },
   "outputs": [],
   "source": [
    "def visualize_predictions(dataset, class_names, num_images=9):\n",
    "    prop = fm.FontProperties(fname=font_path)\n",
    "    plt.figure(figsize=(10, 10))\n",
    "    for images, labels in dataset.take(1):\n",
    "        for i in range(num_images):\n",
    "            ax = plt.subplot(3, 3, i + 1)\n",
    "            plt.imshow(images[i].numpy().astype('uint8'))\n",
    "            plt.title(class_names[labels[i].numpy()], fontproperties=prop)\n",
    "            plt.axis('off')\n",
    "        plt.show()\n",
    "\n",
    "visualize_predictions(train_ds, class_name)"
   ]
  },
  {
   "cell_type": "markdown",
   "id": "b807a89a",
   "metadata": {
    "id": "q4fVcm14Qgqm",
    "papermill": {
     "duration": null,
     "end_time": null,
     "exception": null,
     "start_time": null,
     "status": "pending"
    },
    "tags": []
   },
   "source": [
    "# **ResNet50**"
   ]
  },
  {
   "cell_type": "code",
   "execution_count": null,
   "id": "e3fa91e4",
   "metadata": {
    "execution": {
     "iopub.execute_input": "2024-06-25T16:30:24.029095Z",
     "iopub.status.busy": "2024-06-25T16:30:24.028744Z",
     "iopub.status.idle": "2024-06-25T16:30:25.197476Z",
     "shell.execute_reply": "2024-06-25T16:30:25.196714Z",
     "shell.execute_reply.started": "2024-06-25T16:30:24.029067Z"
    },
    "executionInfo": {
     "elapsed": 3917,
     "status": "ok",
     "timestamp": 1718093089001,
     "user": {
      "displayName": "nory bindas",
      "userId": "13859653085278195170"
     },
     "user_tz": -360
    },
    "id": "OK74jHK388_5",
    "outputId": "c4fb96d3-520b-46fa-f593-243503321a6b",
    "papermill": {
     "duration": null,
     "end_time": null,
     "exception": null,
     "start_time": null,
     "status": "pending"
    },
    "tags": []
   },
   "outputs": [],
   "source": [
    "# Load the ResNet50 model with pre-trained weights, excluding the top layer\n",
    "pretrained_model = ResNet50(weights='imagenet', include_top=False, input_shape=(256, 256, 3))\n",
    "\n",
    "# Freeze all layers in the pre-trained model\n",
    "for layer in pretrained_model.layers:\n",
    "    layer.trainable = False\n",
    "\n",
    "# Add new layers on top of the pre-trained model\n",
    "x = pretrained_model.output\n",
    "x = layers.GlobalAveragePooling2D()(x)\n",
    "x = layers.Dense(1024, activation='relu')(x)\n",
    "predictions = layers.Dense(46, activation='softmax')(x)  # Output layer with 46 classes\n",
    "\n",
    "# Create the final model\n",
    "ResNet50_model = Model(inputs = pretrained_model.input, outputs = predictions)\n",
    "\n",
    "ResNet50_model.compile(\n",
    "    optimizer = Adam(learning_rate = LEARNING_RATE),\n",
    "    loss = SparseCategoricalCrossentropy(from_logits = False),\n",
    "    metrics = ['accuracy']\n",
    ")"
   ]
  },
  {
   "cell_type": "code",
   "execution_count": null,
   "id": "f63d9c12",
   "metadata": {
    "execution": {
     "iopub.execute_input": "2024-06-25T16:30:29.178642Z",
     "iopub.status.busy": "2024-06-25T16:30:29.178259Z",
     "iopub.status.idle": "2024-06-25T16:31:13.245540Z",
     "shell.execute_reply": "2024-06-25T16:31:13.243966Z",
     "shell.execute_reply.started": "2024-06-25T16:30:29.178613Z"
    },
    "executionInfo": {
     "elapsed": 3472542,
     "status": "ok",
     "timestamp": 1718135588794,
     "user": {
      "displayName": "nory bindas",
      "userId": "13859653085278195170"
     },
     "user_tz": -360
    },
    "id": "ipjCp0Ih9fi0",
    "outputId": "4124f82b-fdc3-4c3b-b8a7-9ac42566226c",
    "papermill": {
     "duration": null,
     "end_time": null,
     "exception": null,
     "start_time": null,
     "status": "pending"
    },
    "tags": []
   },
   "outputs": [],
   "source": [
    "history = ResNet50_model.fit(\n",
    "    train_ds,\n",
    "    epochs = 50,  # Number of epochs\n",
    "    validation_data = val_ds,  # Validation data\n",
    "    steps_per_epoch = len(train_ds),  # Steps per epoch\n",
    "    validation_steps = len(val_ds)  # Validation steps\n",
    ")"
   ]
  },
  {
   "cell_type": "code",
   "execution_count": null,
   "id": "7229098e",
   "metadata": {
    "execution": {
     "iopub.execute_input": "2024-06-25T06:16:18.126926Z",
     "iopub.status.busy": "2024-06-25T06:16:18.126313Z",
     "iopub.status.idle": "2024-06-25T06:16:21.632924Z",
     "shell.execute_reply": "2024-06-25T06:16:21.632053Z",
     "shell.execute_reply.started": "2024-06-25T06:16:18.126893Z"
    },
    "executionInfo": {
     "elapsed": 283457,
     "status": "ok",
     "timestamp": 1718135872262,
     "user": {
      "displayName": "nory bindas",
      "userId": "13859653085278195170"
     },
     "user_tz": -360
    },
    "id": "jO_GUIXWf6O8",
    "outputId": "3ca68201-1575-4db1-ec40-5d63a2890d26",
    "papermill": {
     "duration": null,
     "end_time": null,
     "exception": null,
     "start_time": null,
     "status": "pending"
    },
    "tags": []
   },
   "outputs": [],
   "source": [
    "# Evaluate the model on test data\n",
    "test_loss, test_accuracy = ResNet50_model.evaluate(test_ds)\n",
    "print(f'Test Loss: {test_loss}')\n",
    "print(f'Test Accuracy: {test_accuracy}')"
   ]
  },
  {
   "cell_type": "code",
   "execution_count": null,
   "id": "f15d2a00",
   "metadata": {
    "execution": {
     "iopub.execute_input": "2024-06-24T06:07:45.870746Z",
     "iopub.status.busy": "2024-06-24T06:07:45.870355Z",
     "iopub.status.idle": "2024-06-24T06:07:46.182220Z",
     "shell.execute_reply": "2024-06-24T06:07:46.180975Z",
     "shell.execute_reply.started": "2024-06-24T06:07:45.870690Z"
    },
    "papermill": {
     "duration": null,
     "end_time": null,
     "exception": null,
     "start_time": null,
     "status": "pending"
    },
    "tags": []
   },
   "outputs": [],
   "source": [
    "# Plot training & validation accuracy values\n",
    "plt.plot(history.history['accuracy'], label='Train Accuracy')\n",
    "plt.plot(history.history['val_accuracy'], label='Validation Accuracy')\n",
    "plt.title('Model Accuracy')\n",
    "plt.xlabel('Epoch')\n",
    "plt.ylabel('Accuracy')\n",
    "plt.legend(loc='upper left')\n",
    "plt.show()"
   ]
  },
  {
   "cell_type": "code",
   "execution_count": null,
   "id": "25d15153",
   "metadata": {
    "execution": {
     "iopub.execute_input": "2024-06-24T06:08:06.614607Z",
     "iopub.status.busy": "2024-06-24T06:08:06.613946Z",
     "iopub.status.idle": "2024-06-24T06:08:07.103849Z",
     "shell.execute_reply": "2024-06-24T06:08:07.103045Z",
     "shell.execute_reply.started": "2024-06-24T06:08:06.614572Z"
    },
    "papermill": {
     "duration": null,
     "end_time": null,
     "exception": null,
     "start_time": null,
     "status": "pending"
    },
    "tags": []
   },
   "outputs": [],
   "source": [
    "# Save the model\n",
    "ResNet50_model.save('/kaggle/working/ResNet50_model.h5')"
   ]
  },
  {
   "cell_type": "code",
   "execution_count": null,
   "id": "1f934200",
   "metadata": {
    "execution": {
     "iopub.execute_input": "2024-06-24T06:08:10.600142Z",
     "iopub.status.busy": "2024-06-24T06:08:10.599527Z",
     "iopub.status.idle": "2024-06-24T06:08:11.613253Z",
     "shell.execute_reply": "2024-06-24T06:08:11.612095Z",
     "shell.execute_reply.started": "2024-06-24T06:08:10.600108Z"
    },
    "papermill": {
     "duration": null,
     "end_time": null,
     "exception": null,
     "start_time": null,
     "status": "pending"
    },
    "tags": []
   },
   "outputs": [],
   "source": [
    "# Verify the saved model\n",
    "!ls /kaggle/working"
   ]
  },
  {
   "cell_type": "code",
   "execution_count": null,
   "id": "c66afa51",
   "metadata": {
    "execution": {
     "iopub.execute_input": "2024-06-24T06:09:00.559079Z",
     "iopub.status.busy": "2024-06-24T06:09:00.558709Z",
     "iopub.status.idle": "2024-06-24T06:09:05.604118Z",
     "shell.execute_reply": "2024-06-24T06:09:05.603121Z",
     "shell.execute_reply.started": "2024-06-24T06:09:00.559050Z"
    },
    "papermill": {
     "duration": null,
     "end_time": null,
     "exception": null,
     "start_time": null,
     "status": "pending"
    },
    "tags": []
   },
   "outputs": [],
   "source": [
    "def visualize_predictions(ResNet50_model, dataset, class_names, num_images=9):\n",
    "    plt.figure(figsize=(15, 15))\n",
    "    images_shown = 0\n",
    "    prop = fm.FontProperties(fname=font_path)\n",
    "\n",
    "    for images, labels in dataset.take(1):\n",
    "        predictions = ResNet50_model.predict(images)\n",
    "        predicted_labels = tf.argmax(predictions, axis=1)\n",
    "        \n",
    "        for i in range(num_images):\n",
    "            ax = plt.subplot(3, 3, i + 1)\n",
    "            plt.imshow(images[i].numpy().astype(\"uint8\"))\n",
    "            plt.title(f\"True: {class_names[labels[i]]}\\n Pred: {class_names[predicted_labels[i]]}\", fontproperties=prop)\n",
    "            plt.axis(\"off\")\n",
    "            print( f\"{i}True: {class_names[labels[i]]}\\n{i}Pred: {class_names[predicted_labels[i]]}\")\n",
    "            images_shown += 1\n",
    "            if images_shown >= num_images:\n",
    "                break\n",
    "visualize_predictions(ResNet50_model, test_ds, class_name)"
   ]
  },
  {
   "cell_type": "code",
   "execution_count": null,
   "id": "f88339b8",
   "metadata": {
    "execution": {
     "iopub.execute_input": "2024-06-24T06:09:44.840953Z",
     "iopub.status.busy": "2024-06-24T06:09:44.840323Z",
     "iopub.status.idle": "2024-06-24T06:09:59.046048Z",
     "shell.execute_reply": "2024-06-24T06:09:59.045127Z",
     "shell.execute_reply.started": "2024-06-24T06:09:44.840917Z"
    },
    "papermill": {
     "duration": null,
     "end_time": null,
     "exception": null,
     "start_time": null,
     "status": "pending"
    },
    "tags": []
   },
   "outputs": [],
   "source": [
    "def plot_confusion_matrix(ResNet50_model, dataset, class_names, font_path):\n",
    "    true_labels = []\n",
    "    predicted_labels = []\n",
    "\n",
    "    for images, labels in dataset:\n",
    "        predictions = ResNet50_model.predict(images)\n",
    "        predicted_labels.extend(tf.argmax(predictions, axis=1).numpy())\n",
    "        true_labels.extend(labels.numpy())\n",
    "\n",
    "    # Calculate the confusion matrix\n",
    "    cm = confusion_matrix(true_labels, predicted_labels)\n",
    "\n",
    "    # Load the Bangla font\n",
    "    prop = fm.FontProperties(fname=font_path)\n",
    "\n",
    "    # Plot the confusion matrix\n",
    "    plt.figure(figsize=(10, 10))\n",
    "    sns.heatmap(cm, annot=True, fmt=\"d\", xticklabels=class_names, yticklabels=class_names, cmap=\"Blues\")\n",
    "    # Set the font properties\n",
    "    plt.xticks(rotation= 45, ha=\"right\", fontproperties=prop)\n",
    "    plt.yticks(rotation= 0, fontproperties=prop)\n",
    "    plt.xlabel('Predicted', fontproperties=prop)\n",
    "    plt.ylabel('True', fontproperties=prop)\n",
    "    plt.title('Confusion Matrix', fontproperties=prop)\n",
    "    plt.show()\n",
    "\n",
    "# Assuming you have a ResNet50_model, test_ds, and class_name defined\n",
    "plot_confusion_matrix(ResNet50_model, test_ds, class_name, font_path)"
   ]
  },
  {
   "cell_type": "code",
   "execution_count": null,
   "id": "940a8e62",
   "metadata": {
    "execution": {
     "iopub.execute_input": "2024-06-24T06:16:09.708630Z",
     "iopub.status.busy": "2024-06-24T06:16:09.708254Z",
     "iopub.status.idle": "2024-06-24T06:16:15.546121Z",
     "shell.execute_reply": "2024-06-24T06:16:15.545139Z",
     "shell.execute_reply.started": "2024-06-24T06:16:09.708597Z"
    },
    "papermill": {
     "duration": null,
     "end_time": null,
     "exception": null,
     "start_time": null,
     "status": "pending"
    },
    "tags": []
   },
   "outputs": [],
   "source": [
    "def print_classification_report(ResNet50_model, dataset, class_names):\n",
    "    true_labels = []\n",
    "    predicted_labels = []\n",
    "    \n",
    "    for images, labels in dataset:\n",
    "        predictions = ResNet50_model.predict(images)\n",
    "        predicted_labels.extend(tf.argmax(predictions, axis=1).numpy())\n",
    "        true_labels.extend(labels.numpy())\n",
    "    \n",
    "    report = classification_report(true_labels, predicted_labels, target_names=class_names)\n",
    "    print(report)\n",
    "\n",
    "print_classification_report(ResNet50_model, test_ds, class_name)"
   ]
  },
  {
   "cell_type": "markdown",
   "id": "03aa16a9",
   "metadata": {
    "id": "CCsmprmB9iQ9",
    "papermill": {
     "duration": null,
     "end_time": null,
     "exception": null,
     "start_time": null,
     "status": "pending"
    },
    "tags": []
   },
   "source": [
    "# **DenseNet121**"
   ]
  },
  {
   "cell_type": "code",
   "execution_count": null,
   "id": "d85fffc1",
   "metadata": {
    "execution": {
     "iopub.execute_input": "2024-06-24T10:51:41.420538Z",
     "iopub.status.busy": "2024-06-24T10:51:41.420082Z",
     "iopub.status.idle": "2024-06-24T10:51:45.859901Z",
     "shell.execute_reply": "2024-06-24T10:51:45.858994Z",
     "shell.execute_reply.started": "2024-06-24T10:51:41.420504Z"
    },
    "executionInfo": {
     "elapsed": 11207,
     "status": "ok",
     "timestamp": 1718222175787,
     "user": {
      "displayName": "nory bindas",
      "userId": "13859653085278195170"
     },
     "user_tz": -360
    },
    "id": "R38fzvKUJL-R",
    "outputId": "f5848f12-04c7-45db-ccaf-589ca21a49ab",
    "papermill": {
     "duration": null,
     "end_time": null,
     "exception": null,
     "start_time": null,
     "status": "pending"
    },
    "tags": []
   },
   "outputs": [],
   "source": [
    "conv_base = DenseNet201(\n",
    "    include_top=False,\n",
    "    weights='imagenet')\n",
    "\n",
    "for layer in conv_base.layers:\n",
    "    layer.trainable = False\n",
    "\n",
    "# Custom classifier layers\n",
    "x = conv_base.output\n",
    "#x = GlobalAveragePooling2D()(x)\n",
    "#x = layers.Dense(1024, activation='relu')(x)  # Experiment with number of neurons\n",
    "\n",
    "\n",
    "x= GlobalAveragePooling2D()(x)\n",
    "x= BatchNormalization()(x)\n",
    "x= Dropout(0.5)(x)\n",
    "x= Dense(2048,activation='relu')(x) \n",
    "x= Dense(1024,activation='relu')(x) \n",
    "x= Dense(512,activation='relu')(x) \n",
    "x= Dense(256,activation='relu')(x)\n",
    "x= BatchNormalization()(x)\n",
    "x= Dropout(0.5)(x)\n",
    "\n",
    "predictions = layers.Dense(46, activation='softmax')(x)\n",
    "\n",
    "DenseNet121_model = Model(conv_base.input, predictions)\n",
    "DenseNet121_model.compile(\n",
    "    optimizer='adam',\n",
    "    loss=tf.keras.losses.SparseCategoricalCrossentropy(from_logits=False),\n",
    "    metrics=['accuracy']\n",
    ")"
   ]
  },
  {
   "cell_type": "code",
   "execution_count": null,
   "id": "80e6abeb",
   "metadata": {
    "execution": {
     "iopub.execute_input": "2024-06-24T10:51:50.672519Z",
     "iopub.status.busy": "2024-06-24T10:51:50.671766Z",
     "iopub.status.idle": "2024-06-24T11:21:28.629162Z",
     "shell.execute_reply": "2024-06-24T11:21:28.628307Z",
     "shell.execute_reply.started": "2024-06-24T10:51:50.672488Z"
    },
    "id": "AROuPKTTJRwA",
    "outputId": "b1715ad4-2b06-4817-b9df-f99723fdb03d",
    "papermill": {
     "duration": null,
     "end_time": null,
     "exception": null,
     "start_time": null,
     "status": "pending"
    },
    "tags": []
   },
   "outputs": [],
   "source": [
    "#Train the model\n",
    "history = DenseNet121_model.fit(\n",
    "    train_ds,\n",
    "    batch_size = BATCH_SIZE,\n",
    "    validation_data = val_ds,\n",
    "    verbose = 1,\n",
    "    epochs = EPOCHS\n",
    ")"
   ]
  },
  {
   "cell_type": "markdown",
   "id": "8efa3f1c",
   "metadata": {
    "papermill": {
     "duration": null,
     "end_time": null,
     "exception": null,
     "start_time": null,
     "status": "pending"
    },
    "tags": []
   },
   "source": [
    "75---densenet121\n",
    "70---201"
   ]
  },
  {
   "cell_type": "code",
   "execution_count": null,
   "id": "854e2ec2",
   "metadata": {
    "execution": {
     "iopub.execute_input": "2024-06-24T11:21:43.036797Z",
     "iopub.status.busy": "2024-06-24T11:21:43.036422Z",
     "iopub.status.idle": "2024-06-24T11:21:58.777283Z",
     "shell.execute_reply": "2024-06-24T11:21:58.776354Z",
     "shell.execute_reply.started": "2024-06-24T11:21:43.036767Z"
    },
    "id": "3gUjlwhFJWA7",
    "papermill": {
     "duration": null,
     "end_time": null,
     "exception": null,
     "start_time": null,
     "status": "pending"
    },
    "tags": []
   },
   "outputs": [],
   "source": [
    "# Evaluate the model on test data\n",
    "test_loss, test_accuracy = DenseNet121_model.evaluate(test_ds)\n",
    "print(f'Test Loss: {test_loss}')\n",
    "print(f'Test Accuracy: {test_accuracy}')"
   ]
  },
  {
   "cell_type": "code",
   "execution_count": null,
   "id": "18a6df04",
   "metadata": {
    "papermill": {
     "duration": null,
     "end_time": null,
     "exception": null,
     "start_time": null,
     "status": "pending"
    },
    "tags": []
   },
   "outputs": [],
   "source": [
    "# Plot training & validation accuracy values\n",
    "plt.plot(history.history['accuracy'], label='Train Accuracy')\n",
    "plt.plot(history.history['val_accuracy'], label='Validation Accuracy')\n",
    "plt.title('Model Accuracy')\n",
    "plt.xlabel('Epoch')\n",
    "plt.ylabel('Accuracy')\n",
    "plt.legend(loc='upper left')\n",
    "plt.show()"
   ]
  },
  {
   "cell_type": "code",
   "execution_count": null,
   "id": "1a8edb1f",
   "metadata": {
    "execution": {
     "iopub.execute_input": "2024-06-24T06:51:22.284031Z",
     "iopub.status.busy": "2024-06-24T06:51:22.283663Z",
     "iopub.status.idle": "2024-06-24T06:51:23.092668Z",
     "shell.execute_reply": "2024-06-24T06:51:23.091645Z",
     "shell.execute_reply.started": "2024-06-24T06:51:22.284004Z"
    },
    "papermill": {
     "duration": null,
     "end_time": null,
     "exception": null,
     "start_time": null,
     "status": "pending"
    },
    "tags": []
   },
   "outputs": [],
   "source": [
    "# Save the model\n",
    "DenseNet121_model.save('/kaggle/working/DenseNet121_model.h5')"
   ]
  },
  {
   "cell_type": "code",
   "execution_count": null,
   "id": "500d85c5",
   "metadata": {
    "papermill": {
     "duration": null,
     "end_time": null,
     "exception": null,
     "start_time": null,
     "status": "pending"
    },
    "tags": []
   },
   "outputs": [],
   "source": [
    "# Verify the saved model\n",
    "!ls /kaggle/working"
   ]
  },
  {
   "cell_type": "code",
   "execution_count": null,
   "id": "14df2f86",
   "metadata": {
    "execution": {
     "iopub.execute_input": "2024-06-24T06:55:07.825086Z",
     "iopub.status.busy": "2024-06-24T06:55:07.824214Z",
     "iopub.status.idle": "2024-06-24T06:55:18.332456Z",
     "shell.execute_reply": "2024-06-24T06:55:18.331585Z",
     "shell.execute_reply.started": "2024-06-24T06:55:07.825049Z"
    },
    "papermill": {
     "duration": null,
     "end_time": null,
     "exception": null,
     "start_time": null,
     "status": "pending"
    },
    "tags": []
   },
   "outputs": [],
   "source": [
    "def visualize_predictions(DenseNet121_model, dataset, class_names, num_images=9):\n",
    "    plt.figure(figsize=(15, 15))\n",
    "    images_shown = 0\n",
    "    prop = fm.FontProperties(fname=font_path)\n",
    "\n",
    "    for images, labels in dataset.take(1):\n",
    "        predictions = DenseNet121_model.predict(images)\n",
    "        predicted_labels = tf.argmax(predictions, axis=1)\n",
    "        \n",
    "        for i in range(num_images):\n",
    "            ax = plt.subplot(3, 3, i + 1)\n",
    "            plt.imshow(images[i].numpy().astype(\"uint8\"))\n",
    "            plt.title(f\"True: {class_names[labels[i]]}\\n Pred: {class_names[predicted_labels[i]]}\", fontproperties=prop)\n",
    "            plt.axis(\"off\")\n",
    "            print( f\"{i}True: {class_names[labels[i]]}\\n{i}Pred: {class_names[predicted_labels[i]]}\")\n",
    "            images_shown += 1\n",
    "            if images_shown >= num_images:\n",
    "                break\n",
    "visualize_predictions(DenseNet121_model, test_ds, class_name)"
   ]
  },
  {
   "cell_type": "code",
   "execution_count": null,
   "id": "b588947b",
   "metadata": {
    "execution": {
     "iopub.execute_input": "2024-06-24T06:57:29.986718Z",
     "iopub.status.busy": "2024-06-24T06:57:29.986327Z",
     "iopub.status.idle": "2024-06-24T06:57:49.544292Z",
     "shell.execute_reply": "2024-06-24T06:57:49.543416Z",
     "shell.execute_reply.started": "2024-06-24T06:57:29.986673Z"
    },
    "papermill": {
     "duration": null,
     "end_time": null,
     "exception": null,
     "start_time": null,
     "status": "pending"
    },
    "tags": []
   },
   "outputs": [],
   "source": [
    "def plot_confusion_matrix(DenseNet121_model, dataset, class_names, font_path):\n",
    "    true_labels = []\n",
    "    predicted_labels = []\n",
    "\n",
    "    for images, labels in dataset:\n",
    "        predictions = DenseNet121_model.predict(images)\n",
    "        predicted_labels.extend(tf.argmax(predictions, axis=1).numpy())\n",
    "        true_labels.extend(labels.numpy())\n",
    "\n",
    "    # Calculate the confusion matrix\n",
    "    cm = confusion_matrix(true_labels, predicted_labels)\n",
    "\n",
    "    # Load the Bangla font\n",
    "    prop = fm.FontProperties(fname=font_path)\n",
    "\n",
    "    # Plot the confusion matrix\n",
    "    plt.figure(figsize=(10, 10))\n",
    "    sns.heatmap(cm, annot=True, fmt=\"d\", xticklabels=class_names, yticklabels=class_names, cmap=\"Blues\")\n",
    "    # Set the font properties\n",
    "    plt.xticks(rotation= 45, ha=\"right\", fontproperties=prop)\n",
    "    plt.yticks(rotation= 0, fontproperties=prop)\n",
    "    plt.xlabel('Predicted', fontproperties=prop)\n",
    "    plt.ylabel('True', fontproperties=prop)\n",
    "    plt.title('Confusion Matrix', fontproperties=prop)\n",
    "    plt.show()\n",
    "\n",
    "# Assuming you have a DenseNet121_model, test_ds, and class_name defined\n",
    "plot_confusion_matrix(DenseNet121_model, test_ds, class_name, font_path)"
   ]
  },
  {
   "cell_type": "code",
   "execution_count": null,
   "id": "a0fc08a4",
   "metadata": {
    "execution": {
     "iopub.execute_input": "2024-06-24T06:58:09.823801Z",
     "iopub.status.busy": "2024-06-24T06:58:09.823415Z",
     "iopub.status.idle": "2024-06-24T06:58:15.173832Z",
     "shell.execute_reply": "2024-06-24T06:58:15.172837Z",
     "shell.execute_reply.started": "2024-06-24T06:58:09.823769Z"
    },
    "papermill": {
     "duration": null,
     "end_time": null,
     "exception": null,
     "start_time": null,
     "status": "pending"
    },
    "tags": []
   },
   "outputs": [],
   "source": [
    "def print_classification_report(DenseNet121_model, dataset, class_names):\n",
    "    true_labels = []\n",
    "    predicted_labels = []\n",
    "    \n",
    "    for images, labels in dataset:\n",
    "        predictions = DenseNet121_model.predict(images)\n",
    "        predicted_labels.extend(tf.argmax(predictions, axis=1).numpy())\n",
    "        true_labels.extend(labels.numpy())\n",
    "    \n",
    "    report = classification_report(true_labels, predicted_labels, target_names=class_names)\n",
    "    print(report)\n",
    "\n",
    "print_classification_report(DenseNet121_model, test_ds, class_name)"
   ]
  },
  {
   "cell_type": "markdown",
   "id": "bfb063d8",
   "metadata": {
    "papermill": {
     "duration": null,
     "end_time": null,
     "exception": null,
     "start_time": null,
     "status": "pending"
    },
    "tags": []
   },
   "source": [
    "> **CNN**"
   ]
  },
  {
   "cell_type": "code",
   "execution_count": null,
   "id": "9f8014d7",
   "metadata": {
    "execution": {
     "iopub.execute_input": "2024-06-24T08:09:53.738405Z",
     "iopub.status.busy": "2024-06-24T08:09:53.737715Z",
     "iopub.status.idle": "2024-06-24T08:09:53.776720Z",
     "shell.execute_reply": "2024-06-24T08:09:53.775589Z",
     "shell.execute_reply.started": "2024-06-24T08:09:53.738359Z"
    },
    "executionInfo": {
     "elapsed": 3861384,
     "status": "error",
     "timestamp": 1718207585113,
     "user": {
      "displayName": "nory bindas",
      "userId": "13859653085278195170"
     },
     "user_tz": -360
    },
    "id": "OC0oG6QiNo62",
    "outputId": "935878d7-ecb8-41ba-e842-235c50e8f899",
    "papermill": {
     "duration": null,
     "end_time": null,
     "exception": null,
     "start_time": null,
     "status": "pending"
    },
    "tags": []
   },
   "outputs": [],
   "source": [
    "# Define the CNN architecture with input shape (256, 256, 3)\n",
    "CNN_model = Sequential([\n",
    "    Conv2D(32, (3, 3), activation='relu', input_shape=(256, 256, 3)),\n",
    "    BatchNormalization(),\n",
    "    MaxPooling2D((2, 2)),\n",
    "    Dropout(0.2),  # Add dropout to prevent overfitting\n",
    "\n",
    "    Conv2D(64, (3, 3), activation='relu'),\n",
    "    BatchNormalization(),\n",
    "    MaxPooling2D((2, 2)),\n",
    "    Dropout(0.2),  # Add dropout to prevent overfitting\n",
    "\n",
    "    Conv2D(128, (3, 3), activation='relu'),\n",
    "    BatchNormalization(),\n",
    "    MaxPooling2D((2, 2)),\n",
    "    Dropout(0.2),  # Add dropout to prevent overfitting\n",
    "\n",
    "    Flatten(),\n",
    "    Dense(256, activation='relu'),  # Increase the number of units in the dense layer\n",
    "    Dropout(0.2),  # Add dropout to prevent overfitting\n",
    "    Dense(128, activation='relu'),\n",
    "    Dropout(0.2),  # Add dropout to prevent overfitting\n",
    "    Dense(46, activation='softmax')  # Updated to 46 output classes\n",
    "])\n",
    "\n",
    "# Compile the model\n",
    "CNN_model.compile(optimizer='adam',\n",
    "              loss='sparse_categorical_crossentropy',  # Use sparse categorical crossentropy for integer labels\n",
    "              metrics=['accuracy'])\n",
    "\n"
   ]
  },
  {
   "cell_type": "code",
   "execution_count": null,
   "id": "89e2ea67",
   "metadata": {
    "papermill": {
     "duration": null,
     "end_time": null,
     "exception": null,
     "start_time": null,
     "status": "pending"
    },
    "tags": []
   },
   "outputs": [],
   "source": [
    "# Define the CNN architecture with input shape (256, 256, 3)\n",
    "CNN_model = Sequential([\n",
    "    Conv2D(32, (3, 3), activation='relu', input_shape=(256, 256, 3)),\n",
    "    BatchNormalization(),\n",
    "    MaxPooling2D((2, 2)),\n",
    "    Dropout(0.2),  # Add dropout to prevent overfitting\n",
    "\n",
    "    Conv2D(64, (3, 3), activation='relu'),\n",
    "    BatchNormalization(),\n",
    "    MaxPooling2D((2, 2)),\n",
    "    Dropout(0.2),  # Add dropout to prevent overfitting\n",
    "\n",
    "    Conv2D(128, (3, 3), activation='relu'),\n",
    "    BatchNormalization(),\n",
    "    MaxPooling2D((2, 2)),\n",
    "    Dropout(0.2),  # Add dropout to prevent overfitting\n",
    "\n",
    "    Conv2D(256, (3, 3), activation='relu'),\n",
    "    BatchNormalization(),\n",
    "    MaxPooling2D((2, 2)),\n",
    "    Dropout(0.2),  # Add dropout to prevent overfitting\n",
    "\n",
    "    Conv2D(512, (3, 3), activation='relu'),\n",
    "    BatchNormalization(),\n",
    "    MaxPooling2D((2, 2)),\n",
    "    Dropout(0.2),  # Add dropout to prevent overfitting\n",
    "\n",
    "    Conv2D(1024, (3, 3), activation='relu'),\n",
    "    BatchNormalization(),\n",
    "    MaxPooling2D((2, 2)),\n",
    "    Dropout(0.2),  # Add dropout to prevent overfitting\n",
    "\n",
    "    Flatten(),\n",
    "    Dense(256, activation='relu'),  # Increase the number of units in the dense layer\n",
    "    Dropout(0.2),  # Add dropout to prevent overfitting\n",
    "    Dense(128, activation='relu'),\n",
    "    Dropout(0.2),  # Add dropout to prevent overfitting\n",
    "    Dense(46, activation='softmax')  # Updated to 46 output classes\n",
    "])\n",
    "\n",
    "# Compile the model\n",
    "CNN_model.compile(optimizer='adam',\n",
    "              loss='sparse_categorical_crossentropy',  # Use sparse categorical crossentropy for integer labels\n",
    "              metrics=['accuracy'])"
   ]
  },
  {
   "cell_type": "code",
   "execution_count": null,
   "id": "5195d825",
   "metadata": {
    "execution": {
     "iopub.execute_input": "2024-06-24T08:09:47.830587Z",
     "iopub.status.busy": "2024-06-24T08:09:47.829735Z",
     "iopub.status.idle": "2024-06-24T08:09:47.855223Z",
     "shell.execute_reply": "2024-06-24T08:09:47.853927Z",
     "shell.execute_reply.started": "2024-06-24T08:09:47.830551Z"
    },
    "papermill": {
     "duration": null,
     "end_time": null,
     "exception": null,
     "start_time": null,
     "status": "pending"
    },
    "tags": []
   },
   "outputs": [],
   "source": [
    "# Train the model\n",
    "history = CNN_model.fit(\n",
    "    train_ds,\n",
    "    validation_data=val_ds,\n",
    "    verbose=1,\n",
    "    epochs= EPOCHS\n",
    ")"
   ]
  },
  {
   "cell_type": "code",
   "execution_count": null,
   "id": "46627b8a",
   "metadata": {
    "execution": {
     "iopub.execute_input": "2024-06-24T08:09:22.435986Z",
     "iopub.status.busy": "2024-06-24T08:09:22.435213Z",
     "iopub.status.idle": "2024-06-24T08:09:22.799898Z",
     "shell.execute_reply": "2024-06-24T08:09:22.798571Z",
     "shell.execute_reply.started": "2024-06-24T08:09:22.435951Z"
    },
    "papermill": {
     "duration": null,
     "end_time": null,
     "exception": null,
     "start_time": null,
     "status": "pending"
    },
    "tags": []
   },
   "outputs": [],
   "source": [
    "test_loss, test_accuracy = CNN_model.evaluate(test_ds)\n",
    "print(f'Test Loss: {test_loss}')\n",
    "print(f'Test Accuracy: {test_accuracy}')"
   ]
  },
  {
   "cell_type": "markdown",
   "id": "0d2e099b",
   "metadata": {
    "papermill": {
     "duration": null,
     "end_time": null,
     "exception": null,
     "start_time": null,
     "status": "pending"
    },
    "tags": []
   },
   "source": [
    "> **VGG16**"
   ]
  },
  {
   "cell_type": "code",
   "execution_count": null,
   "id": "2a068a9d",
   "metadata": {
    "execution": {
     "iopub.execute_input": "2024-06-24T19:00:01.983327Z",
     "iopub.status.busy": "2024-06-24T19:00:01.982921Z",
     "iopub.status.idle": "2024-06-24T19:00:02.704828Z",
     "shell.execute_reply": "2024-06-24T19:00:02.703995Z",
     "shell.execute_reply.started": "2024-06-24T19:00:01.983294Z"
    },
    "papermill": {
     "duration": null,
     "end_time": null,
     "exception": null,
     "start_time": null,
     "status": "pending"
    },
    "tags": []
   },
   "outputs": [],
   "source": [
    "# Load the VGG16 model with pre-trained weights, excluding the top layer\n",
    "pretrained_model = VGG16(weights='imagenet', include_top=False, input_shape=(256, 256, 3))\n",
    "\n",
    "# Freeze all layers in the pre-trained model\n",
    "for layer in pretrained_model.layers:\n",
    "    layer.trainable = False\n",
    "\n",
    "# Add new layers on top of the pre-trained model\n",
    "x = pretrained_model.output\n",
    "x = layers.GlobalAveragePooling2D()(x)\n",
    "x = layers.Dense(1024, activation='relu')(x)\n",
    "x = layers.Dropout(0.5)(x)  # Optional: Add dropout for regularization\n",
    "predictions = layers.Dense(46, activation='softmax')(x)  # Output layer with 46 classes\n",
    "\n",
    "# Create the final model\n",
    "VGG16_model = Model(inputs=pretrained_model.input, outputs=predictions)\n",
    "\n",
    "VGG16_model.compile(\n",
    "    optimizer=Adam(learning_rate=0.0001),\n",
    "    loss=SparseCategoricalCrossentropy(from_logits=False),\n",
    "    metrics=['accuracy']\n",
    ")"
   ]
  },
  {
   "cell_type": "code",
   "execution_count": null,
   "id": "2eee2052",
   "metadata": {
    "execution": {
     "iopub.execute_input": "2024-06-24T19:00:25.640803Z",
     "iopub.status.busy": "2024-06-24T19:00:25.639807Z",
     "iopub.status.idle": "2024-06-24T19:31:50.789779Z",
     "shell.execute_reply": "2024-06-24T19:31:50.788887Z",
     "shell.execute_reply.started": "2024-06-24T19:00:25.640764Z"
    },
    "papermill": {
     "duration": null,
     "end_time": null,
     "exception": null,
     "start_time": null,
     "status": "pending"
    },
    "tags": []
   },
   "outputs": [],
   "source": [
    "# Train the model\n",
    "VGG16_history = VGG16_model.fit(\n",
    "    train_ds,\n",
    "    epochs=40,  # Adjust the number of epochs as needed\n",
    "    validation_data=val_ds\n",
    ")"
   ]
  },
  {
   "cell_type": "code",
   "execution_count": null,
   "id": "7eaf3689",
   "metadata": {
    "execution": {
     "iopub.execute_input": "2024-06-24T19:33:11.251793Z",
     "iopub.status.busy": "2024-06-24T19:33:11.250834Z",
     "iopub.status.idle": "2024-06-24T19:33:17.311086Z",
     "shell.execute_reply": "2024-06-24T19:33:17.310216Z",
     "shell.execute_reply.started": "2024-06-24T19:33:11.251755Z"
    },
    "papermill": {
     "duration": null,
     "end_time": null,
     "exception": null,
     "start_time": null,
     "status": "pending"
    },
    "tags": []
   },
   "outputs": [],
   "source": [
    "# Evaluate the model on the test set\n",
    "test_loss, test_accuracy = VGG16_model.evaluate(test_ds)\n",
    "print(f'Test Loss: {test_loss}')\n",
    "print(f'Test Accuracy: {test_accuracy}')\n"
   ]
  },
  {
   "cell_type": "code",
   "execution_count": null,
   "id": "168ead9f",
   "metadata": {
    "execution": {
     "iopub.execute_input": "2024-06-24T19:33:20.137520Z",
     "iopub.status.busy": "2024-06-24T19:33:20.136810Z",
     "iopub.status.idle": "2024-06-24T19:33:20.435810Z",
     "shell.execute_reply": "2024-06-24T19:33:20.434859Z",
     "shell.execute_reply.started": "2024-06-24T19:33:20.137486Z"
    },
    "papermill": {
     "duration": null,
     "end_time": null,
     "exception": null,
     "start_time": null,
     "status": "pending"
    },
    "tags": []
   },
   "outputs": [],
   "source": [
    "# Plot training & validation accuracy values\n",
    "plt.plot(VGG16_history.history['accuracy'], label='Train Accuracy')\n",
    "plt.plot(VGG16_history.history['val_accuracy'], label='Validation Accuracy')\n",
    "plt.title('Model Accuracy')\n",
    "plt.xlabel('Epoch')\n",
    "plt.ylabel('Accuracy')\n",
    "plt.legend(loc='upper left')\n",
    "plt.show()"
   ]
  },
  {
   "cell_type": "code",
   "execution_count": null,
   "id": "ba404fe7",
   "metadata": {
    "execution": {
     "iopub.execute_input": "2024-06-24T19:33:35.466079Z",
     "iopub.status.busy": "2024-06-24T19:33:35.465695Z",
     "iopub.status.idle": "2024-06-24T19:33:36.732202Z",
     "shell.execute_reply": "2024-06-24T19:33:36.731066Z",
     "shell.execute_reply.started": "2024-06-24T19:33:35.466046Z"
    },
    "papermill": {
     "duration": null,
     "end_time": null,
     "exception": null,
     "start_time": null,
     "status": "pending"
    },
    "tags": []
   },
   "outputs": [],
   "source": [
    "# Save the model\n",
    "VGG16_model.save('/kaggle/working/VGG16_model.h5')\n",
    "\n",
    "# Verify the saved model\n",
    "!ls /kaggle/working/"
   ]
  },
  {
   "cell_type": "code",
   "execution_count": null,
   "id": "7f318c85",
   "metadata": {
    "execution": {
     "iopub.execute_input": "2024-06-24T19:33:40.467540Z",
     "iopub.status.busy": "2024-06-24T19:33:40.466768Z",
     "iopub.status.idle": "2024-06-24T19:33:40.508676Z",
     "shell.execute_reply": "2024-06-24T19:33:40.507822Z",
     "shell.execute_reply.started": "2024-06-24T19:33:40.467498Z"
    },
    "papermill": {
     "duration": null,
     "end_time": null,
     "exception": null,
     "start_time": null,
     "status": "pending"
    },
    "tags": []
   },
   "outputs": [],
   "source": [
    "# Print the model summary to confirm it's loaded correctly\n",
    "VGG16_model.summary()"
   ]
  },
  {
   "cell_type": "code",
   "execution_count": null,
   "id": "93962434",
   "metadata": {
    "execution": {
     "iopub.execute_input": "2024-06-24T19:33:48.642085Z",
     "iopub.status.busy": "2024-06-24T19:33:48.641146Z",
     "iopub.status.idle": "2024-06-24T19:33:50.810626Z",
     "shell.execute_reply": "2024-06-24T19:33:50.809734Z",
     "shell.execute_reply.started": "2024-06-24T19:33:48.642050Z"
    },
    "papermill": {
     "duration": null,
     "end_time": null,
     "exception": null,
     "start_time": null,
     "status": "pending"
    },
    "tags": []
   },
   "outputs": [],
   "source": [
    "def visualize_predictions(VGG16_model, dataset, class_names, num_images=9):\n",
    "    plt.figure(figsize=(15, 15))\n",
    "    images_shown = 0\n",
    "    prop = fm.FontProperties(fname=font_path)\n",
    "\n",
    "    for images, labels in dataset.take(1):\n",
    "        predictions = VGG16_model.predict(images)\n",
    "        predicted_labels = tf.argmax(predictions, axis=1)\n",
    "        \n",
    "        for i in range(num_images):\n",
    "            ax = plt.subplot(3, 3, i + 1)\n",
    "            plt.imshow(images[i].numpy().astype(\"uint8\"))\n",
    "            plt.title(f\"True: {class_names[labels[i]]}\\n Pred: {class_names[predicted_labels[i]]}\", fontproperties=prop)\n",
    "            plt.axis(\"off\")\n",
    "            print( f\"{i}True: {class_names[labels[i]]}\\n{i}Pred: {class_names[predicted_labels[i]]}\")\n",
    "            images_shown += 1\n",
    "            if images_shown >= num_images:\n",
    "                break\n",
    "visualize_predictions(VGG16_model, test_ds, class_name)"
   ]
  },
  {
   "cell_type": "code",
   "execution_count": null,
   "id": "fd4bb9a4",
   "metadata": {
    "execution": {
     "iopub.execute_input": "2024-06-24T19:34:13.988120Z",
     "iopub.status.busy": "2024-06-24T19:34:13.987543Z",
     "iopub.status.idle": "2024-06-24T19:34:28.576898Z",
     "shell.execute_reply": "2024-06-24T19:34:28.575972Z",
     "shell.execute_reply.started": "2024-06-24T19:34:13.988089Z"
    },
    "papermill": {
     "duration": null,
     "end_time": null,
     "exception": null,
     "start_time": null,
     "status": "pending"
    },
    "tags": []
   },
   "outputs": [],
   "source": [
    "def plot_confusion_matrix(VGG16_model, dataset, class_names, font_path):\n",
    "    true_labels = []\n",
    "    predicted_labels = []\n",
    "\n",
    "    for images, labels in dataset:\n",
    "        predictions = VGG16_model.predict(images)\n",
    "        predicted_labels.extend(tf.argmax(predictions, axis=1).numpy())\n",
    "        true_labels.extend(labels.numpy())\n",
    "\n",
    "    # Calculate the confusion matrix\n",
    "    cm = confusion_matrix(true_labels, predicted_labels)\n",
    "\n",
    "    # Load the Bangla font\n",
    "    prop = fm.FontProperties(fname=font_path)\n",
    "\n",
    "    # Plot the confusion matrix\n",
    "    plt.figure(figsize=(10, 10))\n",
    "    sns.heatmap(cm, annot=True, fmt=\"d\", xticklabels=class_names, yticklabels=class_names, cmap=\"Blues\")\n",
    "\n",
    "    # Set the font properties\n",
    "    plt.xticks(rotation= 45, ha=\"right\", fontproperties=prop)\n",
    "    plt.yticks(rotation= 0, fontproperties=prop)\n",
    "    plt.xlabel('Predicted', fontproperties=prop)\n",
    "    plt.ylabel('True', fontproperties=prop)\n",
    "    plt.title('Confusion Matrix', fontproperties=prop)\n",
    "    plt.show()\n",
    "\n",
    "# Assuming you have a VGG16_model, test_ds, and class_name defined\n",
    "plot_confusion_matrix(VGG16_model, test_ds, class_name, font_path)"
   ]
  },
  {
   "cell_type": "code",
   "execution_count": null,
   "id": "fb35f8a0",
   "metadata": {
    "execution": {
     "iopub.execute_input": "2024-06-24T19:34:32.401135Z",
     "iopub.status.busy": "2024-06-24T19:34:32.400739Z",
     "iopub.status.idle": "2024-06-24T19:34:40.511345Z",
     "shell.execute_reply": "2024-06-24T19:34:40.510319Z",
     "shell.execute_reply.started": "2024-06-24T19:34:32.401092Z"
    },
    "papermill": {
     "duration": null,
     "end_time": null,
     "exception": null,
     "start_time": null,
     "status": "pending"
    },
    "tags": []
   },
   "outputs": [],
   "source": [
    "def print_classification_report(VGG16_model, dataset, class_names):\n",
    "    true_labels = []\n",
    "    predicted_labels = []\n",
    "    \n",
    "    for images, labels in dataset:\n",
    "        predictions = VGG16_model.predict(images)\n",
    "        predicted_labels.extend(tf.argmax(predictions, axis=1).numpy())\n",
    "        true_labels.extend(labels.numpy())\n",
    "    \n",
    "    report = classification_report(true_labels, predicted_labels, target_names=class_names)\n",
    "    print(report)\n",
    "\n",
    "print_classification_report(VGG16_model, test_ds, class_name)"
   ]
  },
  {
   "cell_type": "markdown",
   "id": "3bb93af7",
   "metadata": {
    "papermill": {
     "duration": null,
     "end_time": null,
     "exception": null,
     "start_time": null,
     "status": "pending"
    },
    "tags": []
   },
   "source": [
    "> **VGG19**"
   ]
  },
  {
   "cell_type": "code",
   "execution_count": null,
   "id": "4b50823e",
   "metadata": {
    "execution": {
     "iopub.execute_input": "2024-06-24T19:34:54.181036Z",
     "iopub.status.busy": "2024-06-24T19:34:54.180347Z",
     "iopub.status.idle": "2024-06-24T19:34:54.561353Z",
     "shell.execute_reply": "2024-06-24T19:34:54.560320Z",
     "shell.execute_reply.started": "2024-06-24T19:34:54.181002Z"
    },
    "executionInfo": {
     "elapsed": 1667,
     "status": "ok",
     "timestamp": 1718310940833,
     "user": {
      "displayName": "nory bindas",
      "userId": "13859653085278195170"
     },
     "user_tz": -360
    },
    "id": "CWC_lnJ5S5kC",
    "outputId": "d88b7d28-aaea-43ec-a5d6-b8bc42cf55d6",
    "papermill": {
     "duration": null,
     "end_time": null,
     "exception": null,
     "start_time": null,
     "status": "pending"
    },
    "tags": []
   },
   "outputs": [],
   "source": [
    "# Load the VGG19 model with pre-trained weights, excluding the top layer\n",
    "pretrained_model = VGG19(weights='imagenet', include_top=False, input_shape=(256, 256, 3))\n",
    "\n",
    "# Freeze all layers in the pre-trained model\n",
    "for layer in pretrained_model.layers:\n",
    "    layer.trainable = False\n",
    "\n",
    "# Add new layers on top of the pre-trained model\n",
    "x = pretrained_model.output\n",
    "x = layers.GlobalAveragePooling2D()(x)\n",
    "x = layers.Dense(1024, activation='relu')(x)\n",
    "x = layers.Dropout(0.5)(x)  # Optional: Add dropout for regularization\n",
    "predictions = layers.Dense(46, activation='softmax')(x)   # Output layer with 46 classes\n",
    "\n",
    "# Create the final model\n",
    "VGG19_model = Model(inputs=pretrained_model.input, outputs=predictions)\n",
    "VGG19_model.compile(\n",
    "    optimizer=Adam(learning_rate=0.0001),\n",
    "    loss=SparseCategoricalCrossentropy(from_logits=False),\n",
    "    metrics=['accuracy']\n",
    ")"
   ]
  },
  {
   "cell_type": "code",
   "execution_count": null,
   "id": "27b52494",
   "metadata": {
    "execution": {
     "iopub.execute_input": "2024-06-24T19:34:58.050936Z",
     "iopub.status.busy": "2024-06-24T19:34:58.050566Z",
     "iopub.status.idle": "2024-06-24T20:14:09.404738Z",
     "shell.execute_reply": "2024-06-24T20:14:09.403759Z",
     "shell.execute_reply.started": "2024-06-24T19:34:58.050909Z"
    },
    "id": "AE5ahsUCTDa2",
    "outputId": "f13f756f-1c4d-410f-c8c7-48d15990415c",
    "papermill": {
     "duration": null,
     "end_time": null,
     "exception": null,
     "start_time": null,
     "status": "pending"
    },
    "tags": []
   },
   "outputs": [],
   "source": [
    "# Train the model\n",
    "VGG19_model_history = VGG19_model.fit(\n",
    "    train_ds,\n",
    "    epochs=40,  # Adjust the number of epochs as needed\n",
    "    validation_data=val_ds\n",
    ")"
   ]
  },
  {
   "cell_type": "code",
   "execution_count": null,
   "id": "c15e1c01",
   "metadata": {
    "execution": {
     "iopub.execute_input": "2024-06-24T20:14:12.735399Z",
     "iopub.status.busy": "2024-06-24T20:14:12.735041Z",
     "iopub.status.idle": "2024-06-24T20:14:19.978398Z",
     "shell.execute_reply": "2024-06-24T20:14:19.977389Z",
     "shell.execute_reply.started": "2024-06-24T20:14:12.735369Z"
    },
    "id": "gvKAQfhFTEO-",
    "papermill": {
     "duration": null,
     "end_time": null,
     "exception": null,
     "start_time": null,
     "status": "pending"
    },
    "tags": []
   },
   "outputs": [],
   "source": [
    "# Evaluate the model on the test set\n",
    "test_loss, test_accuracy = VGG19_model.evaluate(test_ds)\n",
    "print(f'Test Loss: {test_loss}')\n",
    "print(f'Test Accuracy: {test_accuracy}')"
   ]
  },
  {
   "cell_type": "code",
   "execution_count": null,
   "id": "3b334992",
   "metadata": {
    "execution": {
     "iopub.execute_input": "2024-06-24T20:14:23.795323Z",
     "iopub.status.busy": "2024-06-24T20:14:23.794658Z",
     "iopub.status.idle": "2024-06-24T20:14:24.086208Z",
     "shell.execute_reply": "2024-06-24T20:14:24.085385Z",
     "shell.execute_reply.started": "2024-06-24T20:14:23.795288Z"
    },
    "papermill": {
     "duration": null,
     "end_time": null,
     "exception": null,
     "start_time": null,
     "status": "pending"
    },
    "tags": []
   },
   "outputs": [],
   "source": [
    "# Plot training & validation accuracy values\n",
    "plt.plot(VGG19_model_history.history['accuracy'], label='Train Accuracy')\n",
    "plt.plot(VGG19_model_history.history['val_accuracy'], label='Validation Accuracy')\n",
    "plt.title('Model Accuracy')\n",
    "plt.xlabel('Epoch')\n",
    "plt.ylabel('Accuracy')\n",
    "plt.legend(loc='upper left')\n",
    "plt.show()"
   ]
  },
  {
   "cell_type": "code",
   "execution_count": null,
   "id": "0d5d3255",
   "metadata": {
    "execution": {
     "iopub.execute_input": "2024-06-24T20:14:28.919577Z",
     "iopub.status.busy": "2024-06-24T20:14:28.919216Z",
     "iopub.status.idle": "2024-06-24T20:14:30.346120Z",
     "shell.execute_reply": "2024-06-24T20:14:30.344969Z",
     "shell.execute_reply.started": "2024-06-24T20:14:28.919545Z"
    },
    "papermill": {
     "duration": null,
     "end_time": null,
     "exception": null,
     "start_time": null,
     "status": "pending"
    },
    "tags": []
   },
   "outputs": [],
   "source": [
    "# Save the model\n",
    "VGG19_model.save('/kaggle/working/VGG19_model.h5')\n",
    "\n",
    "# Verify the saved model\n",
    "!ls /kaggle/working/"
   ]
  },
  {
   "cell_type": "code",
   "execution_count": null,
   "id": "e961ac87",
   "metadata": {
    "execution": {
     "iopub.execute_input": "2024-06-24T20:14:38.501412Z",
     "iopub.status.busy": "2024-06-24T20:14:38.501019Z",
     "iopub.status.idle": "2024-06-24T20:14:38.546770Z",
     "shell.execute_reply": "2024-06-24T20:14:38.545881Z",
     "shell.execute_reply.started": "2024-06-24T20:14:38.501378Z"
    },
    "papermill": {
     "duration": null,
     "end_time": null,
     "exception": null,
     "start_time": null,
     "status": "pending"
    },
    "tags": []
   },
   "outputs": [],
   "source": [
    "# Print the model summary to confirm it's loaded correctly\n",
    "VGG19_model.summary()"
   ]
  },
  {
   "cell_type": "code",
   "execution_count": null,
   "id": "c4532584",
   "metadata": {
    "execution": {
     "iopub.execute_input": "2024-06-24T20:14:43.576210Z",
     "iopub.status.busy": "2024-06-24T20:14:43.575568Z",
     "iopub.status.idle": "2024-06-24T20:14:45.701514Z",
     "shell.execute_reply": "2024-06-24T20:14:45.700663Z",
     "shell.execute_reply.started": "2024-06-24T20:14:43.576175Z"
    },
    "papermill": {
     "duration": null,
     "end_time": null,
     "exception": null,
     "start_time": null,
     "status": "pending"
    },
    "tags": []
   },
   "outputs": [],
   "source": [
    "def visualize_predictions(VGG19_model, dataset, class_names, num_images=9):\n",
    "    plt.figure(figsize=(15, 15))\n",
    "    images_shown = 0\n",
    "    prop = fm.FontProperties(fname=font_path)\n",
    "\n",
    "    for images, labels in dataset.take(1):\n",
    "        predictions = VGG19_model.predict(images)\n",
    "        predicted_labels = tf.argmax(predictions, axis=1)\n",
    "        \n",
    "        for i in range(num_images):\n",
    "            ax = plt.subplot(3, 3, i + 1)\n",
    "            plt.imshow(images[i].numpy().astype(\"uint8\"))\n",
    "            plt.title(f\"True: {class_names[labels[i]]}\\n Pred: {class_names[predicted_labels[i]]}\", fontproperties=prop)\n",
    "            plt.axis(\"off\")\n",
    "            print( f\"{i}True: {class_names[labels[i]]}\\n{i}Pred: {class_names[predicted_labels[i]]}\")\n",
    "            images_shown += 1\n",
    "            if images_shown >= num_images:\n",
    "                break\n",
    "visualize_predictions(VGG19_model, test_ds, class_name)"
   ]
  },
  {
   "cell_type": "code",
   "execution_count": null,
   "id": "1bbbb1e3",
   "metadata": {
    "execution": {
     "iopub.execute_input": "2024-06-24T20:14:56.186986Z",
     "iopub.status.busy": "2024-06-24T20:14:56.186320Z",
     "iopub.status.idle": "2024-06-24T20:15:09.982027Z",
     "shell.execute_reply": "2024-06-24T20:15:09.980962Z",
     "shell.execute_reply.started": "2024-06-24T20:14:56.186952Z"
    },
    "papermill": {
     "duration": null,
     "end_time": null,
     "exception": null,
     "start_time": null,
     "status": "pending"
    },
    "tags": []
   },
   "outputs": [],
   "source": [
    "def plot_confusion_matrix(VGG19_model, dataset, class_names, font_path):\n",
    "    true_labels = []\n",
    "    predicted_labels = []\n",
    "\n",
    "    for images, labels in dataset:\n",
    "        predictions = VGG19_model.predict(images)\n",
    "        predicted_labels.extend(tf.argmax(predictions, axis=1).numpy())\n",
    "        true_labels.extend(labels.numpy())\n",
    "\n",
    "    # Calculate the confusion matrix\n",
    "    cm = confusion_matrix(true_labels, predicted_labels)\n",
    "\n",
    "    # Load the Bangla font\n",
    "    prop = fm.FontProperties(fname=font_path)\n",
    "\n",
    "    # Plot the confusion matrix\n",
    "    plt.figure(figsize=(10, 10))\n",
    "    sns.heatmap(cm, annot=True, fmt=\"d\", xticklabels=class_names, yticklabels=class_names, cmap=\"Blues\")\n",
    "\n",
    "    # Set the font properties\n",
    "    plt.xticks(rotation= 45, ha=\"right\", fontproperties=prop)\n",
    "    plt.yticks(rotation= 0, fontproperties=prop)\n",
    "    plt.xlabel('Predicted', fontproperties=prop)\n",
    "    plt.ylabel('True', fontproperties=prop)\n",
    "    plt.title('Confusion Matrix', fontproperties=prop)\n",
    "    plt.show()\n",
    "\n",
    "# Assuming you have a VGG19_model, test_ds, and class_name defined\n",
    "plot_confusion_matrix(VGG19_model, test_ds, class_name, font_path)"
   ]
  },
  {
   "cell_type": "code",
   "execution_count": null,
   "id": "b0ccade7",
   "metadata": {
    "execution": {
     "iopub.execute_input": "2024-06-24T20:15:13.590544Z",
     "iopub.status.busy": "2024-06-24T20:15:13.589810Z",
     "iopub.status.idle": "2024-06-24T20:15:22.520758Z",
     "shell.execute_reply": "2024-06-24T20:15:22.519735Z",
     "shell.execute_reply.started": "2024-06-24T20:15:13.590509Z"
    },
    "papermill": {
     "duration": null,
     "end_time": null,
     "exception": null,
     "start_time": null,
     "status": "pending"
    },
    "tags": []
   },
   "outputs": [],
   "source": [
    "def print_classification_report(VGG19_model, dataset, class_names):\n",
    "    true_labels = []\n",
    "    predicted_labels = []\n",
    "    \n",
    "    for images, labels in dataset:\n",
    "        predictions = VGG19_model.predict(images)\n",
    "        predicted_labels.extend(tf.argmax(predictions, axis=1).numpy())\n",
    "        true_labels.extend(labels.numpy())\n",
    "    \n",
    "    report = classification_report(true_labels, predicted_labels, target_names=class_names)\n",
    "    print(report)\n",
    "\n",
    "print_classification_report(VGG19_model, test_ds, class_name)"
   ]
  },
  {
   "cell_type": "markdown",
   "id": "ff1bab68",
   "metadata": {
    "papermill": {
     "duration": null,
     "end_time": null,
     "exception": null,
     "start_time": null,
     "status": "pending"
    },
    "tags": []
   },
   "source": [
    "> **InceptionV3**"
   ]
  },
  {
   "cell_type": "code",
   "execution_count": null,
   "id": "aadfa4a3",
   "metadata": {
    "papermill": {
     "duration": null,
     "end_time": null,
     "exception": null,
     "start_time": null,
     "status": "pending"
    },
    "tags": []
   },
   "outputs": [],
   "source": [
    "# Load the InceptionV3 model with pre-trained weights, excluding the top layer\n",
    "pretrained_model = InceptionV3(weights='imagenet', include_top=False, input_shape=(256, 256, 3))\n",
    "\n",
    "# Unfreeze the last few layers of the pre-trained model\n",
    "for layer in pretrained_model.layers[-20:]:\n",
    "    layer.trainable = True\n",
    "    \n",
    "# Add new layers on top of the pre-trained model\n",
    "x = pretrained_model.output\n",
    "x = layers.GlobalAveragePooling2D()(x)\n",
    "x = layers.BatchNormalization()(x)\n",
    "x = layers.Dense(2048, activation='relu', kernel_regularizer=tf.keras.regularizers.l2(0.001))(x)  # Increased number of neurons\n",
    "x = layers.Dropout(0.5)(x)\n",
    "predictions = layers.Dense(46, activation='softmax')(x)  # Output layer with 46 classes\n",
    "\n",
    "# Create the final model\n",
    "InceptionV3_model = Model(inputs=pretrained_model.input, outputs=predictions)\n",
    "\n",
    "InceptionV3_model.compile(\n",
    "    optimizer=optimizers.Adam(learning_rate=0.0001),  # Adjust the learning rate as needed\n",
    "    loss=losses.SparseCategoricalCrossentropy(from_logits=False),\n",
    "    metrics=['accuracy']\n",
    ")\n",
    "\n",
    "# Learning rate scheduler\n",
    "lr_reduce = callbacks.ReduceLROnPlateau(\n",
    "    monitor='val_loss',\n",
    "    factor=0.5,\n",
    "    patience=3,\n",
    "    verbose=1,\n",
    "    min_lr=0.00001\n",
    ")\n",
    "\n",
    "# Early stopping to prevent overfitting\n",
    "early_stopping = callbacks.EarlyStopping(\n",
    "    monitor='val_loss',\n",
    "    patience=5,\n",
    "    restore_best_weights=True,\n",
    "    verbose=1\n",
    ")"
   ]
  },
  {
   "cell_type": "code",
   "execution_count": null,
   "id": "aea7b5c6",
   "metadata": {
    "papermill": {
     "duration": null,
     "end_time": null,
     "exception": null,
     "start_time": null,
     "status": "pending"
    },
    "tags": []
   },
   "outputs": [],
   "source": [
    "# Train the model\n",
    "history = InceptionV3_model.fit(\n",
    "    train_ds,\n",
    "    epochs=40,  # Adjust the number of epochs as needed\n",
    "    validation_data=val_ds,\n",
    "    callbacks=[lr_reduce, early_stopping]\n",
    ")"
   ]
  },
  {
   "cell_type": "code",
   "execution_count": null,
   "id": "03b2543a",
   "metadata": {
    "papermill": {
     "duration": null,
     "end_time": null,
     "exception": null,
     "start_time": null,
     "status": "pending"
    },
    "tags": []
   },
   "outputs": [],
   "source": [
    "# Evaluate the model on the test set\n",
    "test_loss, test_accuracy = InceptionV3_model.evaluate(test_ds)\n",
    "print(f'Test Loss: {test_loss}')\n",
    "print(f'Test Accuracy: {test_accuracy}')"
   ]
  },
  {
   "cell_type": "code",
   "execution_count": null,
   "id": "8748a654",
   "metadata": {
    "papermill": {
     "duration": null,
     "end_time": null,
     "exception": null,
     "start_time": null,
     "status": "pending"
    },
    "tags": []
   },
   "outputs": [],
   "source": [
    "# Plot training & validation accuracy values\n",
    "plt.plot(history.history['accuracy'], label='Train Accuracy')\n",
    "plt.plot(history.history['val_accuracy'], label='Validation Accuracy')\n",
    "plt.title('Model Accuracy')\n",
    "plt.xlabel('Epoch')\n",
    "plt.ylabel('Accuracy')\n",
    "plt.legend(loc='upper left')\n",
    "plt.show()"
   ]
  },
  {
   "cell_type": "code",
   "execution_count": null,
   "id": "9a2140dc",
   "metadata": {
    "papermill": {
     "duration": null,
     "end_time": null,
     "exception": null,
     "start_time": null,
     "status": "pending"
    },
    "tags": []
   },
   "outputs": [],
   "source": [
    "# Save the model\n",
    "InceptionV3_model.save('/kaggle/working/InceptionV3_model.h5')\n",
    "\n",
    "# Verify the saved model\n",
    "!ls /kaggle/working/"
   ]
  },
  {
   "cell_type": "code",
   "execution_count": null,
   "id": "51c85250",
   "metadata": {
    "papermill": {
     "duration": null,
     "end_time": null,
     "exception": null,
     "start_time": null,
     "status": "pending"
    },
    "tags": []
   },
   "outputs": [],
   "source": [
    "InceptionV3_model.summary()"
   ]
  },
  {
   "cell_type": "code",
   "execution_count": null,
   "id": "00c78b1c",
   "metadata": {
    "papermill": {
     "duration": null,
     "end_time": null,
     "exception": null,
     "start_time": null,
     "status": "pending"
    },
    "tags": []
   },
   "outputs": [],
   "source": [
    "def visualize_predictions(InceptionV3_model, dataset, class_names, num_images=9):\n",
    "    plt.figure(figsize=(15, 15))\n",
    "    images_shown = 0\n",
    "    prop = fm.FontProperties(fname=font_path)\n",
    "\n",
    "    for images, labels in dataset.take(1):\n",
    "        predictions = InceptionV3_model.predict(images)\n",
    "        predicted_labels = tf.argmax(predictions, axis=1)\n",
    "        \n",
    "        for i in range(num_images):\n",
    "            ax = plt.subplot(3, 3, i + 1)\n",
    "            plt.imshow(images[i].numpy().astype(\"uint8\"))\n",
    "            plt.title(f\"True: {class_names[labels[i]]}\\n Pred: {class_names[predicted_labels[i]]}\", fontproperties=prop)\n",
    "            plt.axis(\"off\")\n",
    "            print( f\"{i}True: {class_names[labels[i]]}\\n{i}Pred: {class_names[predicted_labels[i]]}\")\n",
    "            images_shown += 1\n",
    "            if images_shown >= num_images:\n",
    "                break\n",
    "visualize_predictions (InceptionV3_model, test_ds, class_name)"
   ]
  },
  {
   "cell_type": "code",
   "execution_count": null,
   "id": "e1dc67f3",
   "metadata": {
    "papermill": {
     "duration": null,
     "end_time": null,
     "exception": null,
     "start_time": null,
     "status": "pending"
    },
    "tags": []
   },
   "outputs": [],
   "source": [
    "def plot_confusion_matrix(InceptionV3_model, dataset, class_names, font_path):\n",
    "    true_labels = []\n",
    "    predicted_labels = []\n",
    "\n",
    "    for images, labels in dataset:\n",
    "        predictions = InceptionV3_model.predict(images)\n",
    "        predicted_labels.extend(tf.argmax(predictions, axis=1).numpy())\n",
    "        true_labels.extend(labels.numpy())\n",
    "\n",
    "    # Calculate the confusion matrix\n",
    "    cm = confusion_matrix(true_labels, predicted_labels)\n",
    "\n",
    "    # Load the Bangla font\n",
    "    prop = fm.FontProperties(fname=font_path)\n",
    "\n",
    "    # Plot the confusion matrix\n",
    "    plt.figure(figsize=(10, 10))\n",
    "    sns.heatmap(cm, annot=True, fmt=\"d\", xticklabels=class_names, yticklabels=class_names, cmap=\"Blues\")\n",
    "\n",
    "    # Set the font properties\n",
    "    plt.xticks(rotation= 45, ha=\"right\", fontproperties=prop)\n",
    "    plt.yticks(rotation= 0, fontproperties=prop)\n",
    "    plt.xlabel('Predicted', fontproperties=prop)\n",
    "    plt.ylabel('True', fontproperties=prop)\n",
    "    plt.title('Confusion Matrix', fontproperties=prop)\n",
    "    plt.show()\n",
    "\n",
    "# Assuming you have a InceptionV3_model, test_ds, and class_name defined\n",
    "plot_confusion_matrix(InceptionV3_model, test_ds, class_name, font_path)"
   ]
  },
  {
   "cell_type": "code",
   "execution_count": null,
   "id": "ae3e0efb",
   "metadata": {
    "papermill": {
     "duration": null,
     "end_time": null,
     "exception": null,
     "start_time": null,
     "status": "pending"
    },
    "tags": []
   },
   "outputs": [],
   "source": [
    "def print_classification_report(InceptionV3_model, dataset, class_names):\n",
    "    true_labels = []\n",
    "    predicted_labels = []\n",
    "    \n",
    "    for images, labels in dataset:\n",
    "        predictions = InceptionV3_model.predict(images)\n",
    "        predicted_labels.extend(tf.argmax(predictions, axis=1).numpy())\n",
    "        true_labels.extend(labels.numpy())\n",
    "    \n",
    "    report = classification_report(true_labels, predicted_labels, target_names=class_names)\n",
    "    print(report)\n",
    "\n",
    "print_classification_report(InceptionV3_model, test_ds, class_name)"
   ]
  },
  {
   "cell_type": "markdown",
   "id": "9bb56898",
   "metadata": {
    "id": "WRkyAHU85SN-",
    "papermill": {
     "duration": null,
     "end_time": null,
     "exception": null,
     "start_time": null,
     "status": "pending"
    },
    "tags": []
   },
   "source": [
    "# **Hybrid**"
   ]
  },
  {
   "cell_type": "code",
   "execution_count": null,
   "id": "420ce075",
   "metadata": {
    "execution": {
     "iopub.execute_input": "2024-06-27T22:57:23.861779Z",
     "iopub.status.busy": "2024-06-27T22:57:23.861424Z",
     "iopub.status.idle": "2024-06-27T22:57:28.234198Z",
     "shell.execute_reply": "2024-06-27T22:57:28.233212Z",
     "shell.execute_reply.started": "2024-06-27T22:57:23.861750Z"
    },
    "executionInfo": {
     "elapsed": 10468,
     "status": "ok",
     "timestamp": 1718434451560,
     "user": {
      "displayName": "nory bindas",
      "userId": "13859653085278195170"
     },
     "user_tz": -360
    },
    "id": "-gO9MVOX5Vee",
    "outputId": "6f648240-8448-4bd2-e440-2fc7193d6738",
    "papermill": {
     "duration": null,
     "end_time": null,
     "exception": null,
     "start_time": null,
     "status": "pending"
    },
    "tags": []
   },
   "outputs": [],
   "source": [
    "num_classes = len(class_name)\n",
    "\n",
    "# Load InceptionV3 and ResNet50 with pre-trained weights\n",
    "input_shape = (256, 256, 3)\n",
    "inception_base = InceptionV3(weights='imagenet', include_top=False, input_shape=input_shape)\n",
    "resnet_base = ResNet50(weights='imagenet', include_top=False, input_shape=input_shape)\n",
    "\n",
    "# Fine-tune the top layers of InceptionV3 and ResNet50\n",
    "for layer in inception_base.layers[-50:]:\n",
    "    layer.trainable = True\n",
    "for layer in resnet_base.layers[-50:]:\n",
    "    layer.trainable = True\n",
    "\n",
    "# Create input layer\n",
    "input_tensor = Input(shape=input_shape)\n",
    "\n",
    "# Extract features using both modelsa\n",
    "inception_features = inception_base(input_tensor)\n",
    "resnet_features = resnet_base(input_tensor)\n",
    "\n",
    "# Pool the features\n",
    "inception_pool = GlobalAveragePooling2D()(inception_features)\n",
    "resnet_pool = GlobalAveragePooling2D()(resnet_features)\n",
    "\n",
    "# Concatenate the pooled features\n",
    "combined_features = Concatenate()([inception_pool, resnet_pool])\n",
    "\n",
    "# Add fully connected layers with L2 regularization\n",
    "x = Dense(1024, activation='relu', kernel_regularizer=l2(0.01))(combined_features)\n",
    "x = Dropout(0.5)(x)\n",
    "x = Dense(512, activation='relu', kernel_regularizer=l2(0.01))(x)\n",
    "x = Dropout(0.5)(x)\n",
    "output_tensor = Dense(num_classes, activation='softmax')(x)\n",
    "\n",
    "# Create the hybrid model\n",
    "hybrid_model = Model(inputs=input_tensor, outputs=output_tensor)\n",
    "\n",
    "# Compile the model with a lower initial learning rate and a learning rate scheduler\n",
    "hybrid_model.compile(optimizer=Adam(learning_rate=0.00001),\n",
    "                     loss='sparse_categorical_crossentropy',\n",
    "                     metrics=['accuracy'])\n",
    "\n",
    "# Learning rate scheduler\n",
    "lr_reduce = callbacks.ReduceLROnPlateau(\n",
    "    monitor='val_loss',\n",
    "    factor=0.5,\n",
    "    patience=3,\n",
    "    verbose=1,\n",
    "    min_lr=0.00001\n",
    ")\n",
    "\n",
    "# Early stopping to prevent overfitting\n",
    "early_stopping = callbacks.EarlyStopping(\n",
    "    monitor='val_loss',\n",
    "    patience=5,\n",
    "    restore_best_weights=True,\n",
    "    verbose=1\n",
    ")"
   ]
  },
  {
   "cell_type": "code",
   "execution_count": null,
   "id": "3da96e81",
   "metadata": {
    "execution": {
     "iopub.execute_input": "2024-06-27T22:57:33.632132Z",
     "iopub.status.busy": "2024-06-27T22:57:33.631706Z",
     "iopub.status.idle": "2024-06-28T00:31:40.809893Z",
     "shell.execute_reply": "2024-06-28T00:31:40.808837Z",
     "shell.execute_reply.started": "2024-06-27T22:57:33.632089Z"
    },
    "id": "Zd8q-eqE5xq6",
    "outputId": "aa8d17c7-d305-4982-e6b1-458282e88ab9",
    "papermill": {
     "duration": null,
     "end_time": null,
     "exception": null,
     "start_time": null,
     "status": "pending"
    },
    "tags": []
   },
   "outputs": [],
   "source": [
    "# Train the model with augmented data and fine-tuned layers\n",
    "history = hybrid_model.fit(\n",
    "    train_ds,\n",
    "    validation_data=val_ds,\n",
    "    epochs=60,\n",
    "    callbacks=[early_stopping, lr_reduce]\n",
    ")"
   ]
  },
  {
   "cell_type": "code",
   "execution_count": null,
   "id": "0ac7a911",
   "metadata": {
    "execution": {
     "iopub.execute_input": "2024-06-28T00:31:54.658266Z",
     "iopub.status.busy": "2024-06-28T00:31:54.657280Z",
     "iopub.status.idle": "2024-06-28T00:32:20.693348Z",
     "shell.execute_reply": "2024-06-28T00:32:20.692508Z",
     "shell.execute_reply.started": "2024-06-28T00:31:54.658223Z"
    },
    "id": "4WP3QFjS5yrR",
    "papermill": {
     "duration": null,
     "end_time": null,
     "exception": null,
     "start_time": null,
     "status": "pending"
    },
    "tags": []
   },
   "outputs": [],
   "source": [
    "test_loss, test_accuracy = hybrid_model.evaluate(test_ds)\n",
    "print(f'Test Loss: {test_loss}')\n",
    "print(f'Test Accuracy: {test_accuracy}')"
   ]
  },
  {
   "cell_type": "code",
   "execution_count": null,
   "id": "b9d9c71c",
   "metadata": {
    "execution": {
     "iopub.execute_input": "2024-06-25T21:41:17.465776Z",
     "iopub.status.busy": "2024-06-25T21:41:17.465099Z",
     "iopub.status.idle": "2024-06-25T21:41:17.740993Z",
     "shell.execute_reply": "2024-06-25T21:41:17.740067Z",
     "shell.execute_reply.started": "2024-06-25T21:41:17.465742Z"
    },
    "papermill": {
     "duration": null,
     "end_time": null,
     "exception": null,
     "start_time": null,
     "status": "pending"
    },
    "tags": []
   },
   "outputs": [],
   "source": [
    "# Plot training & validation accuracy values\n",
    "plt.plot(history.history['accuracy'], label='Train Accuracy')\n",
    "plt.plot(history.history['val_accuracy'], label='Validation Accuracy')\n",
    "plt.title('Model Accuracy')\n",
    "plt.xlabel('Epoch')\n",
    "plt.ylabel('Accuracy')\n",
    "plt.legend(loc='upper left')\n",
    "plt.show()"
   ]
  },
  {
   "cell_type": "code",
   "execution_count": null,
   "id": "05a082e9",
   "metadata": {
    "execution": {
     "iopub.execute_input": "2024-06-28T00:32:37.545528Z",
     "iopub.status.busy": "2024-06-28T00:32:37.545198Z",
     "iopub.status.idle": "2024-06-28T00:32:38.165294Z",
     "shell.execute_reply": "2024-06-28T00:32:38.164392Z",
     "shell.execute_reply.started": "2024-06-28T00:32:37.545502Z"
    },
    "papermill": {
     "duration": null,
     "end_time": null,
     "exception": null,
     "start_time": null,
     "status": "pending"
    },
    "tags": []
   },
   "outputs": [],
   "source": [
    "# Plotting the accuracy\n",
    "plt.figure(figsize=(12, 5))\n",
    "plt.subplot(1, 2, 1)\n",
    "plt.plot(history.history['accuracy'], label='Train Accuracy')\n",
    "plt.plot(history.history['val_accuracy'], label='Validation Accuracy')\n",
    "plt.title('Model Accuracy')\n",
    "plt.xlabel('Epochs')\n",
    "plt.ylabel('Accuracy')\n",
    "plt.legend()\n",
    "\n",
    "# Plotting the loss\n",
    "plt.subplot(1, 2, 2)\n",
    "plt.plot(history.history['loss'], label='Train Loss')\n",
    "plt.plot(history.history['val_loss'], label='Validation Loss')\n",
    "plt.title('Model Loss')\n",
    "plt.xlabel('Epochs')\n",
    "plt.ylabel('Loss')\n",
    "plt.legend()\n",
    "\n",
    "plt.tight_layout()\n",
    "plt.show()"
   ]
  },
  {
   "cell_type": "code",
   "execution_count": null,
   "id": "a8881606",
   "metadata": {
    "execution": {
     "iopub.execute_input": "2024-06-25T21:55:17.325114Z",
     "iopub.status.busy": "2024-06-25T21:55:17.324701Z",
     "iopub.status.idle": "2024-06-25T21:55:21.041588Z",
     "shell.execute_reply": "2024-06-25T21:55:21.040216Z",
     "shell.execute_reply.started": "2024-06-25T21:55:17.325087Z"
    },
    "papermill": {
     "duration": null,
     "end_time": null,
     "exception": null,
     "start_time": null,
     "status": "pending"
    },
    "tags": []
   },
   "outputs": [],
   "source": [
    "# Save the model\n",
    "hybrid_model.save('/kaggle/working/hybrid_model.h5')\n",
    "\n",
    "# Verify the saved model\n",
    "!ls /kaggle/working/"
   ]
  },
  {
   "cell_type": "code",
   "execution_count": null,
   "id": "9bb310e2",
   "metadata": {
    "execution": {
     "iopub.execute_input": "2024-06-24T14:26:58.664565Z",
     "iopub.status.busy": "2024-06-24T14:26:58.664144Z",
     "iopub.status.idle": "2024-06-24T14:26:58.739721Z",
     "shell.execute_reply": "2024-06-24T14:26:58.738921Z",
     "shell.execute_reply.started": "2024-06-24T14:26:58.664528Z"
    },
    "papermill": {
     "duration": null,
     "end_time": null,
     "exception": null,
     "start_time": null,
     "status": "pending"
    },
    "tags": []
   },
   "outputs": [],
   "source": [
    "# Print the model summary to confirm it's loaded correctly\n",
    "hybrid_model.summary()"
   ]
  },
  {
   "cell_type": "code",
   "execution_count": null,
   "id": "530749ef",
   "metadata": {
    "execution": {
     "iopub.execute_input": "2024-06-24T14:27:08.789284Z",
     "iopub.status.busy": "2024-06-24T14:27:08.788444Z",
     "iopub.status.idle": "2024-06-24T14:27:19.752818Z",
     "shell.execute_reply": "2024-06-24T14:27:19.751957Z",
     "shell.execute_reply.started": "2024-06-24T14:27:08.789249Z"
    },
    "papermill": {
     "duration": null,
     "end_time": null,
     "exception": null,
     "start_time": null,
     "status": "pending"
    },
    "tags": []
   },
   "outputs": [],
   "source": [
    "def visualize_predictions(hybrid_model, dataset, class_names, num_images=9):\n",
    "    plt.figure(figsize=(15, 15))\n",
    "    images_shown = 0\n",
    "    prop = fm.FontProperties(fname=font_path)\n",
    "\n",
    "    for images, labels in dataset.take(1):\n",
    "        predictions = hybrid_model.predict(images)\n",
    "        predicted_labels = tf.argmax(predictions, axis=1)\n",
    "        \n",
    "        for i in range(num_images):\n",
    "            ax = plt.subplot(3, 3, i + 1)\n",
    "            plt.imshow(images[i].numpy().astype(\"uint8\"))\n",
    "            plt.title(f\"True: {class_names[labels[i]]}\\n Pred: {class_names[predicted_labels[i]]}\", fontproperties=prop)\n",
    "            plt.axis(\"off\")\n",
    "            print( f\"{i}True: {class_names[labels[i]]}\\n{i}Pred: {class_names[predicted_labels[i]]}\")\n",
    "            images_shown += 1\n",
    "            if images_shown >= num_images:\n",
    "                break\n",
    "visualize_predictions(hybrid_model, test_ds, class_name)"
   ]
  },
  {
   "cell_type": "code",
   "execution_count": null,
   "id": "f05f88a3",
   "metadata": {
    "execution": {
     "iopub.execute_input": "2024-06-24T14:27:37.373245Z",
     "iopub.status.busy": "2024-06-24T14:27:37.372862Z",
     "iopub.status.idle": "2024-06-24T14:28:00.445511Z",
     "shell.execute_reply": "2024-06-24T14:28:00.444581Z",
     "shell.execute_reply.started": "2024-06-24T14:27:37.373214Z"
    },
    "papermill": {
     "duration": null,
     "end_time": null,
     "exception": null,
     "start_time": null,
     "status": "pending"
    },
    "tags": []
   },
   "outputs": [],
   "source": [
    "def plot_confusion_matrix(hybrid_model, dataset, class_names, font_path):\n",
    "    true_labels = []\n",
    "    predicted_labels = []\n",
    "\n",
    "    for images, labels in dataset:\n",
    "        predictions = hybrid_model.predict(images)\n",
    "        predicted_labels.extend(tf.argmax(predictions, axis=1).numpy())\n",
    "        true_labels.extend(labels.numpy())\n",
    "\n",
    "    # Calculate the confusion matrix\n",
    "    cm = confusion_matrix(true_labels, predicted_labels)\n",
    "\n",
    "    # Load the Bangla font\n",
    "    prop = fm.FontProperties(fname=font_path)\n",
    "\n",
    "    # Plot the confusion matrix\n",
    "    plt.figure(figsize=(10, 10))\n",
    "    sns.heatmap(cm, annot=True, fmt=\"d\", xticklabels=class_names, yticklabels=class_names, cmap=\"Blues\")\n",
    "\n",
    "    # Set the font properties\n",
    "    plt.xticks(rotation= 45, ha=\"right\", fontproperties=prop)\n",
    "    plt.yticks(rotation= 0, fontproperties=prop)\n",
    "    plt.xlabel('Predicted', fontproperties=prop)\n",
    "    plt.ylabel('True', fontproperties=prop)\n",
    "    plt.title('Confusion Matrix', fontproperties=prop)\n",
    "    plt.show()\n",
    "\n",
    "# Assuming you have a hybrid_model, test_ds, and class_name defined\n",
    "plot_confusion_matrix(hybrid_model, test_ds, class_name, font_path)"
   ]
  },
  {
   "cell_type": "code",
   "execution_count": null,
   "id": "eb2eeacc",
   "metadata": {
    "execution": {
     "iopub.execute_input": "2024-06-24T14:28:22.981068Z",
     "iopub.status.busy": "2024-06-24T14:28:22.980417Z",
     "iopub.status.idle": "2024-06-24T14:28:31.472097Z",
     "shell.execute_reply": "2024-06-24T14:28:31.471189Z",
     "shell.execute_reply.started": "2024-06-24T14:28:22.981038Z"
    },
    "papermill": {
     "duration": null,
     "end_time": null,
     "exception": null,
     "start_time": null,
     "status": "pending"
    },
    "tags": []
   },
   "outputs": [],
   "source": [
    "def print_classification_report(hybrid_model, dataset, class_names):\n",
    "    true_labels = []\n",
    "    predicted_labels = []\n",
    "    \n",
    "    for images, labels in dataset:\n",
    "        predictions = hybrid_model.predict(images)\n",
    "        predicted_labels.extend(tf.argmax(predictions, axis=1).numpy())\n",
    "        true_labels.extend(labels.numpy())\n",
    "    \n",
    "    report = classification_report(true_labels, predicted_labels, target_names=class_names)\n",
    "    print(report)\n",
    "\n",
    "print_classification_report(hybrid_model, test_ds, class_name)"
   ]
  },
  {
   "cell_type": "markdown",
   "id": "5348d805",
   "metadata": {
    "papermill": {
     "duration": null,
     "end_time": null,
     "exception": null,
     "start_time": null,
     "status": "pending"
    },
    "tags": []
   },
   "source": [
    "> **Xecpetion Model**"
   ]
  },
  {
   "cell_type": "code",
   "execution_count": null,
   "id": "645dee8f",
   "metadata": {
    "execution": {
     "iopub.execute_input": "2024-06-24T14:31:04.702371Z",
     "iopub.status.busy": "2024-06-24T14:31:04.702021Z",
     "iopub.status.idle": "2024-06-24T14:31:07.505120Z",
     "shell.execute_reply": "2024-06-24T14:31:07.504278Z",
     "shell.execute_reply.started": "2024-06-24T14:31:04.702346Z"
    },
    "papermill": {
     "duration": null,
     "end_time": null,
     "exception": null,
     "start_time": null,
     "status": "pending"
    },
    "tags": []
   },
   "outputs": [],
   "source": [
    "# Define number of classes\n",
    "num_classes = len(class_name)\n",
    "\n",
    "# Load Xception with pre-trained weights\n",
    "input_shape = (256, 256, 3)\n",
    "xception_base = Xception(weights='imagenet', include_top=False, input_shape=input_shape)\n",
    "\n",
    "# Fine-tune the top layers of Xception\n",
    "for layer in xception_base.layers[-50:]:\n",
    "    layer.trainable = True\n",
    "\n",
    "# Create input layer\n",
    "input_tensor = Input(shape=input_shape)\n",
    "\n",
    "# Extract features using Xception\n",
    "xception_features = xception_base(input_tensor)\n",
    "\n",
    "# Pool the features\n",
    "xception_pool = GlobalAveragePooling2D()(xception_features)\n",
    "\n",
    "# Add fully connected layers with L2 regularization\n",
    "x = Dense(1024, activation='relu', kernel_regularizer=l2(0.01))(xception_pool)\n",
    "x = Dropout(0.5)(x)\n",
    "x = Dense(512, activation='relu', kernel_regularizer=l2(0.01))(x)\n",
    "x = Dropout(0.5)(x)\n",
    "output_tensor = Dense(num_classes, activation='softmax')(x)\n",
    "# Create the Xception model\n",
    "xception_model = Model(inputs=input_tensor, outputs=output_tensor)\n",
    "\n",
    "# Compile the model with a lower initial learning rate and a learning rate scheduler\n",
    "xception_model.compile(optimizer=Adam(learning_rate=0.00001),\n",
    "                       loss='sparse_categorical_crossentropy',\n",
    "                       metrics=['accuracy'])\n",
    "# Learning rate scheduler\n",
    "lr_reduce = callbacks.ReduceLROnPlateau(\n",
    "    monitor='val_loss',\n",
    "    factor=0.5,\n",
    "    patience=3,\n",
    "    verbose=1,\n",
    "    min_lr=0.00001\n",
    ")\n",
    "\n",
    "# Early stopping to prevent overfitting\n",
    "early_stopping = callbacks.EarlyStopping(\n",
    "    monitor='val_loss',\n",
    "    patience=5,\n",
    "    restore_best_weights=True,\n",
    "    verbose=1\n",
    ")"
   ]
  },
  {
   "cell_type": "code",
   "execution_count": null,
   "id": "be4422a4",
   "metadata": {
    "execution": {
     "iopub.execute_input": "2024-06-24T14:31:12.304543Z",
     "iopub.status.busy": "2024-06-24T14:31:12.303805Z",
     "iopub.status.idle": "2024-06-24T16:08:36.649894Z",
     "shell.execute_reply": "2024-06-24T16:08:36.648744Z",
     "shell.execute_reply.started": "2024-06-24T14:31:12.304509Z"
    },
    "papermill": {
     "duration": null,
     "end_time": null,
     "exception": null,
     "start_time": null,
     "status": "pending"
    },
    "tags": []
   },
   "outputs": [],
   "source": [
    "# Train the model with more epochs and fine-tuned layers\n",
    "history = xception_model.fit(\n",
    "    train_ds,\n",
    "    validation_data=val_ds,\n",
    "    epochs = EPOCHS,  # Increased the number of epochs\n",
    "    callbacks=[early_stopping, lr_reduce]\n",
    ")"
   ]
  },
  {
   "cell_type": "code",
   "execution_count": null,
   "id": "7faef811",
   "metadata": {
    "execution": {
     "iopub.execute_input": "2024-06-24T16:08:43.312820Z",
     "iopub.status.busy": "2024-06-24T16:08:43.312462Z",
     "iopub.status.idle": "2024-06-24T16:09:06.453744Z",
     "shell.execute_reply": "2024-06-24T16:09:06.452898Z",
     "shell.execute_reply.started": "2024-06-24T16:08:43.312790Z"
    },
    "papermill": {
     "duration": null,
     "end_time": null,
     "exception": null,
     "start_time": null,
     "status": "pending"
    },
    "tags": []
   },
   "outputs": [],
   "source": [
    "# Evaluate the Xception model on the test set\n",
    "test_loss, test_accuracy = xception_model.evaluate(test_ds)\n",
    "print(f'Test Loss: {test_loss}')\n",
    "print(f'Test Accuracy: {test_accuracy}')"
   ]
  },
  {
   "cell_type": "code",
   "execution_count": null,
   "id": "d24431ef",
   "metadata": {
    "execution": {
     "iopub.execute_input": "2024-06-24T16:09:11.212980Z",
     "iopub.status.busy": "2024-06-24T16:09:11.212628Z",
     "iopub.status.idle": "2024-06-24T16:09:11.516665Z",
     "shell.execute_reply": "2024-06-24T16:09:11.515717Z",
     "shell.execute_reply.started": "2024-06-24T16:09:11.212951Z"
    },
    "papermill": {
     "duration": null,
     "end_time": null,
     "exception": null,
     "start_time": null,
     "status": "pending"
    },
    "tags": []
   },
   "outputs": [],
   "source": [
    "import matplotlib.pyplot as plt\n",
    "# Plot training & validation accuracy values\n",
    "plt.plot(history.history['accuracy'], label='Train Accuracy')\n",
    "plt.plot(history.history['val_accuracy'], label='Validation Accuracy')\n",
    "plt.title('Model Accuracy')\n",
    "plt.xlabel('Epoch')\n",
    "plt.ylabel('Accuracy')\n",
    "plt.legend(loc='upper left')\n",
    "plt.show()"
   ]
  },
  {
   "cell_type": "code",
   "execution_count": null,
   "id": "42ff19f3",
   "metadata": {
    "execution": {
     "iopub.execute_input": "2024-06-24T16:09:15.288862Z",
     "iopub.status.busy": "2024-06-24T16:09:15.288500Z",
     "iopub.status.idle": "2024-06-24T16:09:18.542208Z",
     "shell.execute_reply": "2024-06-24T16:09:18.540592Z",
     "shell.execute_reply.started": "2024-06-24T16:09:15.288831Z"
    },
    "papermill": {
     "duration": null,
     "end_time": null,
     "exception": null,
     "start_time": null,
     "status": "pending"
    },
    "tags": []
   },
   "outputs": [],
   "source": [
    "# Save the model\n",
    "hybrid_model.save('/kaggle/working/xception_model.h5')\n",
    "\n",
    "# Verify the saved model\n",
    "!ls /kaggle/working/"
   ]
  },
  {
   "cell_type": "code",
   "execution_count": null,
   "id": "4191c634",
   "metadata": {
    "execution": {
     "iopub.execute_input": "2024-06-24T16:09:21.316413Z",
     "iopub.status.busy": "2024-06-24T16:09:21.315342Z",
     "iopub.status.idle": "2024-06-24T16:09:21.358861Z",
     "shell.execute_reply": "2024-06-24T16:09:21.357980Z",
     "shell.execute_reply.started": "2024-06-24T16:09:21.316371Z"
    },
    "papermill": {
     "duration": null,
     "end_time": null,
     "exception": null,
     "start_time": null,
     "status": "pending"
    },
    "tags": []
   },
   "outputs": [],
   "source": [
    "# Print the model summary to confirm it's loaded correctly\n",
    "xception_model.summary()"
   ]
  },
  {
   "cell_type": "code",
   "execution_count": null,
   "id": "e05bdf64",
   "metadata": {
    "execution": {
     "iopub.execute_input": "2024-06-24T16:09:25.294457Z",
     "iopub.status.busy": "2024-06-24T16:09:25.293585Z",
     "iopub.status.idle": "2024-06-24T16:09:29.810491Z",
     "shell.execute_reply": "2024-06-24T16:09:29.809568Z",
     "shell.execute_reply.started": "2024-06-24T16:09:25.294412Z"
    },
    "papermill": {
     "duration": null,
     "end_time": null,
     "exception": null,
     "start_time": null,
     "status": "pending"
    },
    "tags": []
   },
   "outputs": [],
   "source": [
    "def visualize_predictions(xception_model, dataset, class_names, num_images=9):\n",
    "    plt.figure(figsize=(15, 15))\n",
    "    images_shown = 0\n",
    "    prop = fm.FontProperties(fname=font_path)\n",
    "\n",
    "    for images, labels in dataset.take(1):\n",
    "        predictions = xception_model.predict(images)\n",
    "        predicted_labels = tf.argmax(predictions, axis=1)\n",
    "        \n",
    "        for i in range(num_images):\n",
    "            ax = plt.subplot(3, 3, i + 1)\n",
    "            plt.imshow(images[i].numpy().astype(\"uint8\"))\n",
    "            plt.title(f\"True: {class_names[labels[i]]}\\n Pred: {class_names[predicted_labels[i]]}\", fontproperties=prop)\n",
    "            plt.axis(\"off\")\n",
    "            print( f\"{i}True: {class_names[labels[i]]}\\n{i}Pred: {class_names[predicted_labels[i]]}\")\n",
    "            images_shown += 1\n",
    "            if images_shown >= num_images:\n",
    "                break\n",
    "visualize_predictions(xception_model, test_ds, class_name)"
   ]
  },
  {
   "cell_type": "code",
   "execution_count": null,
   "id": "f2765629",
   "metadata": {
    "execution": {
     "iopub.execute_input": "2024-06-24T16:09:42.274626Z",
     "iopub.status.busy": "2024-06-24T16:09:42.274238Z",
     "iopub.status.idle": "2024-06-24T16:09:58.663901Z",
     "shell.execute_reply": "2024-06-24T16:09:58.662989Z",
     "shell.execute_reply.started": "2024-06-24T16:09:42.274593Z"
    },
    "papermill": {
     "duration": null,
     "end_time": null,
     "exception": null,
     "start_time": null,
     "status": "pending"
    },
    "tags": []
   },
   "outputs": [],
   "source": [
    "def plot_confusion_matrix(xception_model, dataset, class_names, font_path):\n",
    "    true_labels = []\n",
    "    predicted_labels = []\n",
    "\n",
    "    for images, labels in dataset:\n",
    "        predictions = xception_model.predict(images)\n",
    "        predicted_labels.extend(tf.argmax(predictions, axis=1).numpy())\n",
    "        true_labels.extend(labels.numpy())\n",
    "\n",
    "    # Calculate the confusion matrix\n",
    "    cm = confusion_matrix(true_labels, predicted_labels)\n",
    "\n",
    "    # Load the Bangla font\n",
    "    prop = fm.FontProperties(fname=font_path)\n",
    "\n",
    "    # Plot the confusion matrix\n",
    "    plt.figure(figsize=(10, 10))\n",
    "    sns.heatmap(cm, annot=True, fmt=\"d\", xticklabels=class_names, yticklabels=class_names, cmap=\"Blues\")\n",
    "\n",
    "    # Set the font properties\n",
    "    plt.xticks(rotation= 45, ha=\"right\", fontproperties=prop)\n",
    "    plt.yticks(rotation= 0, fontproperties=prop)\n",
    "    plt.xlabel('Predicted', fontproperties=prop)\n",
    "    plt.ylabel('True', fontproperties=prop)\n",
    "    plt.title('Confusion Matrix', fontproperties=prop)\n",
    "    plt.show()\n",
    "\n",
    "# Assuming you have a xception_model, test_ds, and class_name defined\n",
    "plot_confusion_matrix(xception_model, test_ds, class_name, font_path)"
   ]
  },
  {
   "cell_type": "code",
   "execution_count": null,
   "id": "c8ed8f4c",
   "metadata": {
    "execution": {
     "iopub.execute_input": "2024-06-24T16:10:45.099393Z",
     "iopub.status.busy": "2024-06-24T16:10:45.098471Z",
     "iopub.status.idle": "2024-06-24T16:10:52.618920Z",
     "shell.execute_reply": "2024-06-24T16:10:52.617954Z",
     "shell.execute_reply.started": "2024-06-24T16:10:45.099359Z"
    },
    "papermill": {
     "duration": null,
     "end_time": null,
     "exception": null,
     "start_time": null,
     "status": "pending"
    },
    "tags": []
   },
   "outputs": [],
   "source": [
    "def print_classification_report(xception_model, dataset, class_names):\n",
    "    true_labels = []\n",
    "    predicted_labels = []\n",
    "    \n",
    "    for images, labels in dataset:\n",
    "        predictions = xception_model.predict(images)\n",
    "        predicted_labels.extend(tf.argmax(predictions, axis=1).numpy())\n",
    "        true_labels.extend(labels.numpy())\n",
    "    \n",
    "    report = classification_report(true_labels, predicted_labels, target_names=class_names)\n",
    "    print(report)\n",
    "\n",
    "print_classification_report(xception_model, test_ds, class_name)"
   ]
  },
  {
   "cell_type": "markdown",
   "id": "2d6130b9",
   "metadata": {
    "papermill": {
     "duration": null,
     "end_time": null,
     "exception": null,
     "start_time": null,
     "status": "pending"
    },
    "tags": []
   },
   "source": [
    "> **MobileNetV2**"
   ]
  },
  {
   "cell_type": "code",
   "execution_count": null,
   "id": "168152c9",
   "metadata": {
    "execution": {
     "iopub.execute_input": "2024-06-24T17:08:50.966814Z",
     "iopub.status.busy": "2024-06-24T17:08:50.966018Z",
     "iopub.status.idle": "2024-06-24T17:08:51.816148Z",
     "shell.execute_reply": "2024-06-24T17:08:51.815265Z",
     "shell.execute_reply.started": "2024-06-24T17:08:50.966774Z"
    },
    "papermill": {
     "duration": null,
     "end_time": null,
     "exception": null,
     "start_time": null,
     "status": "pending"
    },
    "tags": []
   },
   "outputs": [],
   "source": [
    "# Import necessary libraries\n",
    "from tensorflow.keras.applications import MobileNetV2\n",
    "from tensorflow.keras.layers import GlobalAveragePooling2D, Dense, Dropout, BatchNormalization\n",
    "from tensorflow.keras.models import Model\n",
    "from tensorflow.keras.optimizers import Adam, SGD\n",
    "from tensorflow.keras.losses import SparseCategoricalCrossentropy\n",
    "from tensorflow.keras.callbacks import EarlyStopping, ReduceLROnPlateau\n",
    "\n",
    "# Load the MobileNetV2 model with pre-trained weights, excluding the top layer\n",
    "pretrained_model = MobileNetV2(weights='imagenet', include_top=False, input_shape=(256, 256, 3))\n",
    "\n",
    "# Freeze all layers in the pre-trained model\n",
    "for layer in pretrained_model.layers:\n",
    "    layer.trainable = False\n",
    "\n",
    "# Add new layers on top of the pre-trained model\n",
    "x = pretrained_model.output\n",
    "x = GlobalAveragePooling2D()(x)\n",
    "x = BatchNormalization()(x)\n",
    "x = Dense(1024, activation='relu')(x)\n",
    "x = Dropout(0.2)(x)  # Add dropout layer\n",
    "x = BatchNormalization()(x)\n",
    "predictions = Dense(46, activation='softmax')(x)  # Output layer with 46 classes\n",
    "\n",
    "# Create the final model\n",
    "MobileNetV2_model = Model(inputs=pretrained_model.input, outputs=predictions)\n",
    "\n",
    "# Compile the model with a different optimizer and learning rate\n",
    "MobileNetV2_model.compile(\n",
    "    optimizer=SGD(learning_rate=0.001),\n",
    "    loss=SparseCategoricalCrossentropy(from_logits=False),\n",
    "    metrics=['accuracy']\n",
    ")"
   ]
  },
  {
   "cell_type": "code",
   "execution_count": null,
   "id": "f6830166",
   "metadata": {
    "execution": {
     "iopub.execute_input": "2024-06-24T17:26:06.754917Z",
     "iopub.status.busy": "2024-06-24T17:26:06.754232Z",
     "iopub.status.idle": "2024-06-24T17:26:55.366423Z",
     "shell.execute_reply": "2024-06-24T17:26:55.365421Z",
     "shell.execute_reply.started": "2024-06-24T17:26:06.754881Z"
    },
    "papermill": {
     "duration": null,
     "end_time": null,
     "exception": null,
     "start_time": null,
     "status": "pending"
    },
    "tags": []
   },
   "outputs": [],
   "source": [
    "# Train the model with more epochs and fine-tuned layers\n",
    "history = MobileNetV2_model.fit(\n",
    "    train_ds,\n",
    "    validation_data=val_ds,\n",
    "    epochs = 40,  # Increased the number of epochs\n",
    "    callbacks=[early_stopping, lr_reduce]\n",
    ")"
   ]
  },
  {
   "cell_type": "code",
   "execution_count": null,
   "id": "337e0b13",
   "metadata": {
    "execution": {
     "iopub.execute_input": "2024-06-24T17:29:03.323449Z",
     "iopub.status.busy": "2024-06-24T17:29:03.323084Z",
     "iopub.status.idle": "2024-06-24T17:29:06.108340Z",
     "shell.execute_reply": "2024-06-24T17:29:06.107442Z",
     "shell.execute_reply.started": "2024-06-24T17:29:03.323420Z"
    },
    "papermill": {
     "duration": null,
     "end_time": null,
     "exception": null,
     "start_time": null,
     "status": "pending"
    },
    "tags": []
   },
   "outputs": [],
   "source": [
    "# Evaluate the MobileNetV2 model on the test set\n",
    "test_loss, test_accuracy = MobileNetV2_model.evaluate(test_ds)\n",
    "print(f'Test Loss: {test_loss}')\n",
    "print(f'Test Accuracy: {test_accuracy}')"
   ]
  },
  {
   "cell_type": "code",
   "execution_count": null,
   "id": "037dbc93",
   "metadata": {
    "_kg_hide-output": true,
    "execution": {
     "iopub.execute_input": "2024-06-27T22:46:47.069960Z",
     "iopub.status.busy": "2024-06-27T22:46:47.069310Z",
     "iopub.status.idle": "2024-06-27T22:46:49.765421Z",
     "shell.execute_reply": "2024-06-27T22:46:49.764571Z",
     "shell.execute_reply.started": "2024-06-27T22:46:47.069925Z"
    },
    "papermill": {
     "duration": null,
     "end_time": null,
     "exception": null,
     "start_time": null,
     "status": "pending"
    },
    "tags": []
   },
   "outputs": [],
   "source": [
    "\n",
    "# Set input shape\n",
    "input_shape = (256, 256, 3)\n",
    "num_classes = 46\n",
    "# Load pre-trained models with pre-trained weights\n",
    "inception_base = InceptionV3(weights='imagenet', include_top=False, input_shape=input_shape)\n",
    "vgg16_base = VGG16(weights='imagenet', include_top=False, input_shape=input_shape)\n",
    "\n",
    "# Freeze the convolutional layers of both models (adjust as needed)\n",
    "for layer in inception_base.layers[:-100]:\n",
    "  layer.trainable = False\n",
    "for layer in vgg16_base.layers[:-100]:\n",
    "  layer.trainable = False\n",
    "\n",
    "# Create the model input\n",
    "input_tensor = Input(shape=input_shape)\n",
    "\n",
    "# Extract features from both models\n",
    "inception_features = inception_base(input_tensor)\n",
    "vgg16_features = vgg16_base(input_tensor)\n",
    "\n",
    "# Pool the features\n",
    "inception_pool = GlobalAveragePooling2D()(inception_features)\n",
    "vgg16_pool = GlobalAveragePooling2D()(vgg16_features)\n",
    "\n",
    "# Concatenate the features\n",
    "combined_features = Concatenate()([inception_pool, vgg16_pool])\n",
    "\n",
    "# Add fully-connected layers with L2 regularization and dropout\n",
    "x = Dense(1024, activation='relu', kernel_regularizer=l2(0.01))(combined_features)\n",
    "x = Dropout(0.5)(x)\n",
    "x = BatchNormalization()(x)\n",
    "x = Dense(512, activation='relu', kernel_regularizer=l2(0.01))(x)\n",
    "x = Dropout(0.5)(x)\n",
    "output_tensor = Dense(num_classes, activation='softmax')(x)\n",
    "\n",
    "# Create the final hybrid model\n",
    "hybrid_model = Model(inputs=input_tensor, outputs=output_tensor)\n",
    "\n",
    "# Compile the model with Adam optimizer and categorical crossentropy loss\n",
    "hybrid_model.compile(optimizer=Adam(learning_rate=0.00001),\n",
    "                    loss='sparse_categorical_crossentropy',\n",
    "                    metrics=['accuracy'])\n",
    "\n",
    "# Learning rate scheduler\n",
    "lr_reduce = callbacks.ReduceLROnPlateau(\n",
    "    monitor='val_loss',\n",
    "    factor=0.5,\n",
    "    patience=3,\n",
    "    verbose=1,\n",
    "    min_lr=0.00001\n",
    ")\n",
    "\n",
    "# Early stopping to prevent overfitting\n",
    "early_stopping = callbacks.EarlyStopping(\n",
    "    monitor='val_loss',\n",
    "    patience=5,\n",
    "    restore_best_weights=True,\n",
    "    verbose=1\n",
    ")\n"
   ]
  },
  {
   "cell_type": "code",
   "execution_count": null,
   "id": "3f2bd6c4",
   "metadata": {
    "execution": {
     "iopub.execute_input": "2024-06-27T22:47:32.780197Z",
     "iopub.status.busy": "2024-06-27T22:47:32.778998Z"
    },
    "papermill": {
     "duration": null,
     "end_time": null,
     "exception": null,
     "start_time": null,
     "status": "pending"
    },
    "tags": []
   },
   "outputs": [],
   "source": [
    "# Train the model with more epochs and fine-tuned layers\n",
    "history = hybrid_model.fit(\n",
    "    train_ds,\n",
    "    validation_data=val_ds,\n",
    "    epochs = 40,  # Increased the number of epochs\n",
    "    callbacks=[early_stopping, lr_reduce]\n",
    ")"
   ]
  }
 ],
 "metadata": {
  "colab": {
   "provenance": [
    {
     "file_id": "1fbh98Vf9iu1RovATK67ZbNweSeiDqpgO",
     "timestamp": 1719158174384
    },
    {
     "file_id": "1qEddpmkt8YTR3Mvyk7Qn5a_vaTOeSNb4",
     "timestamp": 1716659141915
    },
    {
     "file_id": "1w0AnUUrpYuMOF1oVD5T1ZGShvKRQtU0t",
     "timestamp": 1716644402857
    }
   ]
  },
  "kaggle": {
   "accelerator": "gpu",
   "dataSources": [
    {
     "datasetId": 5268949,
     "sourceId": 8768315,
     "sourceType": "datasetVersion"
    },
    {
     "datasetId": 5268978,
     "sourceId": 8768365,
     "sourceType": "datasetVersion"
    },
    {
     "datasetId": 5273066,
     "sourceId": 8773913,
     "sourceType": "datasetVersion"
    },
    {
     "datasetId": 5273072,
     "sourceId": 8773921,
     "sourceType": "datasetVersion"
    }
   ],
   "dockerImageVersionId": 30733,
   "isGpuEnabled": true,
   "isInternetEnabled": true,
   "language": "python",
   "sourceType": "notebook"
  },
  "kernelspec": {
   "display_name": "Python 3",
   "language": "python",
   "name": "python3"
  },
  "language_info": {
   "codemirror_mode": {
    "name": "ipython",
    "version": 3
   },
   "file_extension": ".py",
   "mimetype": "text/x-python",
   "name": "python",
   "nbconvert_exporter": "python",
   "pygments_lexer": "ipython3",
   "version": "3.10.13"
  },
  "papermill": {
   "default_parameters": {},
   "duration": 19.612917,
   "end_time": "2024-06-28T00:33:29.501075",
   "environment_variables": {},
   "exception": true,
   "input_path": "__notebook__.ipynb",
   "output_path": "__notebook__.ipynb",
   "parameters": {},
   "start_time": "2024-06-28T00:33:09.888158",
   "version": "2.5.0"
  }
 },
 "nbformat": 4,
 "nbformat_minor": 5
}
